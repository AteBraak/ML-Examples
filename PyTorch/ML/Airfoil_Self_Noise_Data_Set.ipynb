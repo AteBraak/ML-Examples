{
  "nbformat": 4,
  "nbformat_minor": 0,
  "metadata": {
    "colab": {
      "name": "Airfoil Self-Noise Data Set.ipynb",
      "provenance": [],
      "collapsed_sections": [],
      "authorship_tag": "ABX9TyMZdsz2I1rSom5aXQXWTdK3",
      "include_colab_link": true
    },
    "kernelspec": {
      "name": "python3",
      "display_name": "Python 3"
    },
    "language_info": {
      "name": "python"
    },
    "accelerator": "GPU"
  },
  "cells": [
    {
      "cell_type": "markdown",
      "metadata": {
        "id": "view-in-github",
        "colab_type": "text"
      },
      "source": [
        "<a href=\"https://colab.research.google.com/github/AteBraak/ML-Examples/blob/main/PyTorch/ML/Airfoil_Self_Noise_Data_Set.ipynb\" target=\"_parent\"><img src=\"https://colab.research.google.com/assets/colab-badge.svg\" alt=\"Open In Colab\"/></a>"
      ]
    },
    {
      "cell_type": "markdown",
      "metadata": {
        "id": "ZE1lH9sWBVXr"
      },
      "source": [
        "The NASA data set comprises different size NACA 0012 airfoils at various wind tunnel speeds and angles of attack. The span of the airfoil and the observer position were the same in all of the experiments.\n",
        "https://archive.ics.uci.edu/ml/datasets/Airfoil+Self-Noise#"
      ]
    },
    {
      "cell_type": "code",
      "metadata": {
        "id": "8H5Ys-oXBKVF"
      },
      "source": [
        "import os\n",
        "import numpy as np\n",
        "import pandas as pd\n",
        "import torch\n",
        "import torch.nn as nn\n",
        "import torch.nn.functional as F\n",
        "import torch.optim as optim\n",
        "from torch.utils.data import TensorDataset"
      ],
      "execution_count": 2,
      "outputs": []
    },
    {
      "cell_type": "code",
      "metadata": {
        "colab": {
          "base_uri": "https://localhost:8080/"
        },
        "id": "5ygkcjpuHUuq",
        "outputId": "645655f9-5772-4c70-a320-ee27f5c728e9"
      },
      "source": [
        "use_gpu = torch.cuda.is_available()\n",
        "device = torch.device(\"cuda:0\" if use_gpu else \"cpu\")\n",
        "\n",
        "print(\"Torch version: \", torch.__version__)\n",
        "print(\"GPU Available: {}\".format(use_gpu))"
      ],
      "execution_count": 3,
      "outputs": [
        {
          "output_type": "stream",
          "text": [
            "Torch version:  1.8.1+cu101\n",
            "GPU Available: True\n"
          ],
          "name": "stdout"
        }
      ]
    },
    {
      "cell_type": "code",
      "metadata": {
        "id": "ZTXfZ6t4GigZ"
      },
      "source": [
        "import random\n",
        "\n",
        "manualSeed = 1234\n",
        "use_gpu = torch.cuda.is_available()\n",
        "\n",
        "# Fixing random seed\n",
        "random.seed(manualSeed)\n",
        "np.random.seed(manualSeed)\n",
        "torch.manual_seed(manualSeed)\n",
        "if use_gpu:\n",
        "   torch.cuda.manual_seed_all(manualSeed)"
      ],
      "execution_count": 4,
      "outputs": []
    },
    {
      "cell_type": "code",
      "metadata": {
        "colab": {
          "base_uri": "https://localhost:8080/"
        },
        "id": "-ABowUspBo5D",
        "outputId": "46ffb511-1124-46c8-c229-ec31278e6191"
      },
      "source": [
        "if os.path.isfile('/content/airfoil_self_noise.dat'):\n",
        "  print(\"Download already exists in Colab\")\n",
        "else:\n",
        "  !wget https://archive.ics.uci.edu/ml/machine-learning-databases/00291/airfoil_self_noise.dat"
      ],
      "execution_count": 5,
      "outputs": [
        {
          "output_type": "stream",
          "text": [
            "--2021-05-07 21:28:42--  https://archive.ics.uci.edu/ml/machine-learning-databases/00291/airfoil_self_noise.dat\n",
            "Resolving archive.ics.uci.edu (archive.ics.uci.edu)... 128.195.10.252\n",
            "Connecting to archive.ics.uci.edu (archive.ics.uci.edu)|128.195.10.252|:443... connected.\n",
            "HTTP request sent, awaiting response... 200 OK\n",
            "Length: 59984 (59K) [application/x-httpd-php]\n",
            "Saving to: ‘airfoil_self_noise.dat’\n",
            "\n",
            "airfoil_self_noise. 100%[===================>]  58.58K  --.-KB/s    in 0.1s    \n",
            "\n",
            "2021-05-07 21:28:43 (426 KB/s) - ‘airfoil_self_noise.dat’ saved [59984/59984]\n",
            "\n"
          ],
          "name": "stdout"
        }
      ]
    },
    {
      "cell_type": "code",
      "metadata": {
        "id": "MgSsnlEjBEDC"
      },
      "source": [
        "# Extracting data from the csv file\n",
        "airfoil_data = pd.read_csv(\"/content/airfoil_self_noise.dat\", sep=\"\\t\", header=0, names=[\"Frequency\", \"Angle of attack\",\t\"Chord length\",\t\"Free-stream velocity\",\t\"Displacement thickness\",\t\"Scaled sound pressure level\"])"
      ],
      "execution_count": 6,
      "outputs": []
    },
    {
      "cell_type": "code",
      "metadata": {
        "colab": {
          "base_uri": "https://localhost:8080/",
          "height": 198
        },
        "id": "J2L7OTbGC9wC",
        "outputId": "83ec77fe-2415-427d-cfe1-2dddfd2d0818"
      },
      "source": [
        "airfoil_data.head()"
      ],
      "execution_count": 7,
      "outputs": [
        {
          "output_type": "execute_result",
          "data": {
            "text/html": [
              "<div>\n",
              "<style scoped>\n",
              "    .dataframe tbody tr th:only-of-type {\n",
              "        vertical-align: middle;\n",
              "    }\n",
              "\n",
              "    .dataframe tbody tr th {\n",
              "        vertical-align: top;\n",
              "    }\n",
              "\n",
              "    .dataframe thead th {\n",
              "        text-align: right;\n",
              "    }\n",
              "</style>\n",
              "<table border=\"1\" class=\"dataframe\">\n",
              "  <thead>\n",
              "    <tr style=\"text-align: right;\">\n",
              "      <th></th>\n",
              "      <th>Frequency</th>\n",
              "      <th>Angle of attack</th>\n",
              "      <th>Chord length</th>\n",
              "      <th>Free-stream velocity</th>\n",
              "      <th>Displacement thickness</th>\n",
              "      <th>Scaled sound pressure level</th>\n",
              "    </tr>\n",
              "  </thead>\n",
              "  <tbody>\n",
              "    <tr>\n",
              "      <th>0</th>\n",
              "      <td>1000</td>\n",
              "      <td>0.0</td>\n",
              "      <td>0.3048</td>\n",
              "      <td>71.3</td>\n",
              "      <td>0.002663</td>\n",
              "      <td>125.201</td>\n",
              "    </tr>\n",
              "    <tr>\n",
              "      <th>1</th>\n",
              "      <td>1250</td>\n",
              "      <td>0.0</td>\n",
              "      <td>0.3048</td>\n",
              "      <td>71.3</td>\n",
              "      <td>0.002663</td>\n",
              "      <td>125.951</td>\n",
              "    </tr>\n",
              "    <tr>\n",
              "      <th>2</th>\n",
              "      <td>1600</td>\n",
              "      <td>0.0</td>\n",
              "      <td>0.3048</td>\n",
              "      <td>71.3</td>\n",
              "      <td>0.002663</td>\n",
              "      <td>127.591</td>\n",
              "    </tr>\n",
              "    <tr>\n",
              "      <th>3</th>\n",
              "      <td>2000</td>\n",
              "      <td>0.0</td>\n",
              "      <td>0.3048</td>\n",
              "      <td>71.3</td>\n",
              "      <td>0.002663</td>\n",
              "      <td>127.461</td>\n",
              "    </tr>\n",
              "    <tr>\n",
              "      <th>4</th>\n",
              "      <td>2500</td>\n",
              "      <td>0.0</td>\n",
              "      <td>0.3048</td>\n",
              "      <td>71.3</td>\n",
              "      <td>0.002663</td>\n",
              "      <td>125.571</td>\n",
              "    </tr>\n",
              "  </tbody>\n",
              "</table>\n",
              "</div>"
            ],
            "text/plain": [
              "   Frequency  ...  Scaled sound pressure level\n",
              "0       1000  ...                      125.201\n",
              "1       1250  ...                      125.951\n",
              "2       1600  ...                      127.591\n",
              "3       2000  ...                      127.461\n",
              "4       2500  ...                      125.571\n",
              "\n",
              "[5 rows x 6 columns]"
            ]
          },
          "metadata": {
            "tags": []
          },
          "execution_count": 7
        }
      ]
    },
    {
      "cell_type": "code",
      "metadata": {
        "colab": {
          "base_uri": "https://localhost:8080/"
        },
        "id": "ta6Llom0Fs5y",
        "outputId": "009aa77e-0375-44d6-97f7-104aefba62fe"
      },
      "source": [
        "print(f'There are {len(airfoil_data)} examples in the dataset.')"
      ],
      "execution_count": 8,
      "outputs": [
        {
          "output_type": "stream",
          "text": [
            "There are 1502 examples in the dataset.\n"
          ],
          "name": "stdout"
        }
      ]
    },
    {
      "cell_type": "code",
      "metadata": {
        "colab": {
          "base_uri": "https://localhost:8080/",
          "height": 228
        },
        "id": "UnYRQ-6YCtz6",
        "outputId": "2cfe2635-1534-44fd-910f-c8ce3c000483"
      },
      "source": [
        "airfoil_data.describe().T"
      ],
      "execution_count": 9,
      "outputs": [
        {
          "output_type": "execute_result",
          "data": {
            "text/html": [
              "<div>\n",
              "<style scoped>\n",
              "    .dataframe tbody tr th:only-of-type {\n",
              "        vertical-align: middle;\n",
              "    }\n",
              "\n",
              "    .dataframe tbody tr th {\n",
              "        vertical-align: top;\n",
              "    }\n",
              "\n",
              "    .dataframe thead th {\n",
              "        text-align: right;\n",
              "    }\n",
              "</style>\n",
              "<table border=\"1\" class=\"dataframe\">\n",
              "  <thead>\n",
              "    <tr style=\"text-align: right;\">\n",
              "      <th></th>\n",
              "      <th>count</th>\n",
              "      <th>mean</th>\n",
              "      <th>std</th>\n",
              "      <th>min</th>\n",
              "      <th>25%</th>\n",
              "      <th>50%</th>\n",
              "      <th>75%</th>\n",
              "      <th>max</th>\n",
              "    </tr>\n",
              "  </thead>\n",
              "  <tbody>\n",
              "    <tr>\n",
              "      <th>Frequency</th>\n",
              "      <td>1502.0</td>\n",
              "      <td>2887.769640</td>\n",
              "      <td>3153.162983</td>\n",
              "      <td>200.000000</td>\n",
              "      <td>800.000000</td>\n",
              "      <td>1600.000000</td>\n",
              "      <td>4000.00000</td>\n",
              "      <td>20000.000000</td>\n",
              "    </tr>\n",
              "    <tr>\n",
              "      <th>Angle of attack</th>\n",
              "      <td>1502.0</td>\n",
              "      <td>6.786818</td>\n",
              "      <td>5.917509</td>\n",
              "      <td>0.000000</td>\n",
              "      <td>2.000000</td>\n",
              "      <td>5.400000</td>\n",
              "      <td>9.90000</td>\n",
              "      <td>22.200000</td>\n",
              "    </tr>\n",
              "    <tr>\n",
              "      <th>Chord length</th>\n",
              "      <td>1502.0</td>\n",
              "      <td>0.136436</td>\n",
              "      <td>0.093471</td>\n",
              "      <td>0.025400</td>\n",
              "      <td>0.050800</td>\n",
              "      <td>0.101600</td>\n",
              "      <td>0.22860</td>\n",
              "      <td>0.304800</td>\n",
              "    </tr>\n",
              "    <tr>\n",
              "      <th>Free-stream velocity</th>\n",
              "      <td>1502.0</td>\n",
              "      <td>50.847137</td>\n",
              "      <td>15.569029</td>\n",
              "      <td>31.700000</td>\n",
              "      <td>39.600000</td>\n",
              "      <td>39.600000</td>\n",
              "      <td>71.30000</td>\n",
              "      <td>71.300000</td>\n",
              "    </tr>\n",
              "    <tr>\n",
              "      <th>Displacement thickness</th>\n",
              "      <td>1502.0</td>\n",
              "      <td>0.011146</td>\n",
              "      <td>0.013153</td>\n",
              "      <td>0.000401</td>\n",
              "      <td>0.002535</td>\n",
              "      <td>0.004957</td>\n",
              "      <td>0.01584</td>\n",
              "      <td>0.058411</td>\n",
              "    </tr>\n",
              "    <tr>\n",
              "      <th>Scaled sound pressure level</th>\n",
              "      <td>1502.0</td>\n",
              "      <td>124.835034</td>\n",
              "      <td>6.900864</td>\n",
              "      <td>103.380000</td>\n",
              "      <td>120.190000</td>\n",
              "      <td>125.719000</td>\n",
              "      <td>129.99775</td>\n",
              "      <td>140.987000</td>\n",
              "    </tr>\n",
              "  </tbody>\n",
              "</table>\n",
              "</div>"
            ],
            "text/plain": [
              "                              count         mean  ...         75%           max\n",
              "Frequency                    1502.0  2887.769640  ...  4000.00000  20000.000000\n",
              "Angle of attack              1502.0     6.786818  ...     9.90000     22.200000\n",
              "Chord length                 1502.0     0.136436  ...     0.22860      0.304800\n",
              "Free-stream velocity         1502.0    50.847137  ...    71.30000     71.300000\n",
              "Displacement thickness       1502.0     0.011146  ...     0.01584      0.058411\n",
              "Scaled sound pressure level  1502.0   124.835034  ...   129.99775    140.987000\n",
              "\n",
              "[6 rows x 8 columns]"
            ]
          },
          "metadata": {
            "tags": []
          },
          "execution_count": 9
        }
      ]
    },
    {
      "cell_type": "code",
      "metadata": {
        "colab": {
          "base_uri": "https://localhost:8080/",
          "height": 228
        },
        "id": "7O6KspR-G9L4",
        "outputId": "2732bcad-4900-4f6a-f997-fc20b8aaa267"
      },
      "source": [
        "airfoil_data.corr()"
      ],
      "execution_count": 10,
      "outputs": [
        {
          "output_type": "execute_result",
          "data": {
            "text/html": [
              "<div>\n",
              "<style scoped>\n",
              "    .dataframe tbody tr th:only-of-type {\n",
              "        vertical-align: middle;\n",
              "    }\n",
              "\n",
              "    .dataframe tbody tr th {\n",
              "        vertical-align: top;\n",
              "    }\n",
              "\n",
              "    .dataframe thead th {\n",
              "        text-align: right;\n",
              "    }\n",
              "</style>\n",
              "<table border=\"1\" class=\"dataframe\">\n",
              "  <thead>\n",
              "    <tr style=\"text-align: right;\">\n",
              "      <th></th>\n",
              "      <th>Frequency</th>\n",
              "      <th>Angle of attack</th>\n",
              "      <th>Chord length</th>\n",
              "      <th>Free-stream velocity</th>\n",
              "      <th>Displacement thickness</th>\n",
              "      <th>Scaled sound pressure level</th>\n",
              "    </tr>\n",
              "  </thead>\n",
              "  <tbody>\n",
              "    <tr>\n",
              "      <th>Frequency</th>\n",
              "      <td>1.000000</td>\n",
              "      <td>-0.273429</td>\n",
              "      <td>-0.002871</td>\n",
              "      <td>0.134339</td>\n",
              "      <td>-0.230457</td>\n",
              "      <td>-0.390686</td>\n",
              "    </tr>\n",
              "    <tr>\n",
              "      <th>Angle of attack</th>\n",
              "      <td>-0.273429</td>\n",
              "      <td>1.000000</td>\n",
              "      <td>-0.504259</td>\n",
              "      <td>0.059822</td>\n",
              "      <td>0.753336</td>\n",
              "      <td>-0.156027</td>\n",
              "    </tr>\n",
              "    <tr>\n",
              "      <th>Chord length</th>\n",
              "      <td>-0.002871</td>\n",
              "      <td>-0.504259</td>\n",
              "      <td>1.000000</td>\n",
              "      <td>0.002217</td>\n",
              "      <td>-0.220338</td>\n",
              "      <td>-0.236657</td>\n",
              "    </tr>\n",
              "    <tr>\n",
              "      <th>Free-stream velocity</th>\n",
              "      <td>0.134339</td>\n",
              "      <td>0.059822</td>\n",
              "      <td>0.002217</td>\n",
              "      <td>1.000000</td>\n",
              "      <td>-0.003413</td>\n",
              "      <td>0.125003</td>\n",
              "    </tr>\n",
              "    <tr>\n",
              "      <th>Displacement thickness</th>\n",
              "      <td>-0.230457</td>\n",
              "      <td>0.753336</td>\n",
              "      <td>-0.220338</td>\n",
              "      <td>-0.003413</td>\n",
              "      <td>1.000000</td>\n",
              "      <td>-0.312632</td>\n",
              "    </tr>\n",
              "    <tr>\n",
              "      <th>Scaled sound pressure level</th>\n",
              "      <td>-0.390686</td>\n",
              "      <td>-0.156027</td>\n",
              "      <td>-0.236657</td>\n",
              "      <td>0.125003</td>\n",
              "      <td>-0.312632</td>\n",
              "      <td>1.000000</td>\n",
              "    </tr>\n",
              "  </tbody>\n",
              "</table>\n",
              "</div>"
            ],
            "text/plain": [
              "                             Frequency  ...  Scaled sound pressure level\n",
              "Frequency                     1.000000  ...                    -0.390686\n",
              "Angle of attack              -0.273429  ...                    -0.156027\n",
              "Chord length                 -0.002871  ...                    -0.236657\n",
              "Free-stream velocity          0.134339  ...                     0.125003\n",
              "Displacement thickness       -0.230457  ...                    -0.312632\n",
              "Scaled sound pressure level  -0.390686  ...                     1.000000\n",
              "\n",
              "[6 rows x 6 columns]"
            ]
          },
          "metadata": {
            "tags": []
          },
          "execution_count": 10
        }
      ]
    },
    {
      "cell_type": "code",
      "metadata": {
        "colab": {
          "base_uri": "https://localhost:8080/"
        },
        "id": "GFHEHBH1HAy4",
        "outputId": "bdc8b607-dfdd-4e5b-e4fc-0a64bbb3a958"
      },
      "source": [
        "airfoil_data.isnull().sum()"
      ],
      "execution_count": 11,
      "outputs": [
        {
          "output_type": "execute_result",
          "data": {
            "text/plain": [
              "Frequency                      0\n",
              "Angle of attack                0\n",
              "Chord length                   0\n",
              "Free-stream velocity           0\n",
              "Displacement thickness         0\n",
              "Scaled sound pressure level    0\n",
              "dtype: int64"
            ]
          },
          "metadata": {
            "tags": []
          },
          "execution_count": 11
        }
      ]
    },
    {
      "cell_type": "code",
      "metadata": {
        "id": "Gl2Q-g0CF5FJ"
      },
      "source": [
        "train, validate, test = np.split(\n",
        "    airfoil_data.sample(frac=1, random_state=manualSeed), \n",
        "    [int(.6*len(airfoil_data)), int(.8*len(airfoil_data))])\n",
        "\n",
        "# Remove the label column from X and create a label vectors.\n",
        "X_train = train.drop(['Scaled sound pressure level'], axis=1).to_numpy()\n",
        "y_train = train['Scaled sound pressure level'].to_numpy()\n",
        "\n",
        "X_val = validate.drop(['Scaled sound pressure level'], axis=1).to_numpy()\n",
        "y_val = validate['Scaled sound pressure level'].to_numpy()\n",
        "\n",
        "X_test = test.drop(['Scaled sound pressure level'], axis=1).to_numpy()\n",
        "y_test = test['Scaled sound pressure level'].to_numpy()"
      ],
      "execution_count": 12,
      "outputs": []
    },
    {
      "cell_type": "code",
      "metadata": {
        "id": "BgmGQCmmGweJ"
      },
      "source": [
        "train_dataset = TensorDataset(torch.from_numpy(X_train).float(), torch.from_numpy(y_train).float())\n",
        "val_dataset = TensorDataset(torch.from_numpy(X_val).float(), torch.from_numpy(y_val).float())\n",
        "test_dataset = TensorDataset(torch.from_numpy(X_test).float(), torch.from_numpy(y_test).float())"
      ],
      "execution_count": 13,
      "outputs": []
    },
    {
      "cell_type": "code",
      "metadata": {
        "id": "Al7sAKPKHrxx"
      },
      "source": [
        "train_batch_size = 32  # number of data in a training batch.\n",
        "eval_batch_size = 32   # number of data in an batch.\n",
        "\n",
        "#to do transforms?\n",
        "\n",
        "train_loader = torch.utils.data.DataLoader(train_dataset, batch_size=train_batch_size, shuffle=True)\n",
        "val_loader   = torch.utils.data.DataLoader(val_dataset, batch_size=eval_batch_size, shuffle=False)\n",
        "test_loader  = torch.utils.data.DataLoader(test_dataset, batch_size=eval_batch_size, shuffle=False)"
      ],
      "execution_count": 14,
      "outputs": []
    },
    {
      "cell_type": "code",
      "metadata": {
        "id": "LywOFPNAHpop"
      },
      "source": [
        "from sklearn.linear_model import LinearRegression\n",
        "from sklearn.metrics import mean_absolute_error"
      ],
      "execution_count": 15,
      "outputs": []
    },
    {
      "cell_type": "code",
      "metadata": {
        "id": "TNPjj6VWHeKR"
      },
      "source": [
        "# Linear model object instantiation\n",
        "lr = LinearRegression().fit(X_train, y_train)\n",
        "\n",
        "predictions = lr.predict(X_test)"
      ],
      "execution_count": 216,
      "outputs": []
    },
    {
      "cell_type": "code",
      "metadata": {
        "colab": {
          "base_uri": "https://localhost:8080/"
        },
        "id": "e5OT7BUsHx0Z",
        "outputId": "9da55ea9-5b30-4c81-e5d9-83b9d8682214"
      },
      "source": [
        "mae = mean_absolute_error(predictions, y_test)\n",
        "\n",
        "print(\"Mean Absolute Error :\", round(mae, 2))"
      ],
      "execution_count": 217,
      "outputs": [
        {
          "output_type": "stream",
          "text": [
            "Mean Absolute Error : 3.73\n"
          ],
          "name": "stdout"
        }
      ]
    },
    {
      "cell_type": "code",
      "metadata": {
        "colab": {
          "base_uri": "https://localhost:8080/",
          "height": 198
        },
        "id": "eoF4WNteH2kC",
        "outputId": "c428c5bc-1cfe-4af7-8474-289f88063c2b"
      },
      "source": [
        "pred_series = pd.Series(predictions, name=\"Predicted\")\n",
        "x_test_series = pd.DataFrame(X_test, columns =[\"Frequency\", \"Angle of attack\",\t\"Chord length\",\t\"Free-stream velocity\",\t\"Displacement thickness\"])\n",
        "y_test_series = pd.DataFrame(y_test, columns =[\"Scaled sound pressure level\"])\n",
        "submission = pd.concat([x_test_series, y_test_series, pred_series], axis=1)\n",
        "\n",
        "submission.head()"
      ],
      "execution_count": 227,
      "outputs": [
        {
          "output_type": "execute_result",
          "data": {
            "text/html": [
              "<div>\n",
              "<style scoped>\n",
              "    .dataframe tbody tr th:only-of-type {\n",
              "        vertical-align: middle;\n",
              "    }\n",
              "\n",
              "    .dataframe tbody tr th {\n",
              "        vertical-align: top;\n",
              "    }\n",
              "\n",
              "    .dataframe thead th {\n",
              "        text-align: right;\n",
              "    }\n",
              "</style>\n",
              "<table border=\"1\" class=\"dataframe\">\n",
              "  <thead>\n",
              "    <tr style=\"text-align: right;\">\n",
              "      <th></th>\n",
              "      <th>Frequency</th>\n",
              "      <th>Angle of attack</th>\n",
              "      <th>Chord length</th>\n",
              "      <th>Free-stream velocity</th>\n",
              "      <th>Displacement thickness</th>\n",
              "      <th>Scaled sound pressure level</th>\n",
              "      <th>Predicted</th>\n",
              "    </tr>\n",
              "  </thead>\n",
              "  <tbody>\n",
              "    <tr>\n",
              "      <th>0</th>\n",
              "      <td>4000.0</td>\n",
              "      <td>9.5</td>\n",
              "      <td>0.0254</td>\n",
              "      <td>31.7</td>\n",
              "      <td>0.004614</td>\n",
              "      <td>126.736</td>\n",
              "      <td>124.958845</td>\n",
              "    </tr>\n",
              "    <tr>\n",
              "      <th>1</th>\n",
              "      <td>3150.0</td>\n",
              "      <td>12.3</td>\n",
              "      <td>0.1016</td>\n",
              "      <td>39.6</td>\n",
              "      <td>0.040827</td>\n",
              "      <td>113.055</td>\n",
              "      <td>117.908168</td>\n",
              "    </tr>\n",
              "    <tr>\n",
              "      <th>2</th>\n",
              "      <td>250.0</td>\n",
              "      <td>17.4</td>\n",
              "      <td>0.0254</td>\n",
              "      <td>55.5</td>\n",
              "      <td>0.016571</td>\n",
              "      <td>110.491</td>\n",
              "      <td>127.480860</td>\n",
              "    </tr>\n",
              "    <tr>\n",
              "      <th>3</th>\n",
              "      <td>630.0</td>\n",
              "      <td>6.7</td>\n",
              "      <td>0.1016</td>\n",
              "      <td>55.5</td>\n",
              "      <td>0.005214</td>\n",
              "      <td>133.023</td>\n",
              "      <td>130.327375</td>\n",
              "    </tr>\n",
              "    <tr>\n",
              "      <th>4</th>\n",
              "      <td>6300.0</td>\n",
              "      <td>0.0</td>\n",
              "      <td>0.0508</td>\n",
              "      <td>39.6</td>\n",
              "      <td>0.000792</td>\n",
              "      <td>131.918</td>\n",
              "      <td>126.266560</td>\n",
              "    </tr>\n",
              "  </tbody>\n",
              "</table>\n",
              "</div>"
            ],
            "text/plain": [
              "   Frequency  Angle of attack  ...  Scaled sound pressure level   Predicted\n",
              "0     4000.0              9.5  ...                      126.736  124.958845\n",
              "1     3150.0             12.3  ...                      113.055  117.908168\n",
              "2      250.0             17.4  ...                      110.491  127.480860\n",
              "3      630.0              6.7  ...                      133.023  130.327375\n",
              "4     6300.0              0.0  ...                      131.918  126.266560\n",
              "\n",
              "[5 rows x 7 columns]"
            ]
          },
          "metadata": {
            "tags": []
          },
          "execution_count": 227
        }
      ]
    },
    {
      "cell_type": "code",
      "metadata": {
        "colab": {
          "base_uri": "https://localhost:8080/"
        },
        "id": "0rLVXSFOaOOT",
        "outputId": "87a2467e-80e3-44b3-9d44-f9b53e35373d"
      },
      "source": [
        "train_loader.__len__()\n",
        "for xb,yb in train_loader:\n",
        "  print(xb.shape)\n",
        "  print(yb.shape)\n",
        "  break  "
      ],
      "execution_count": 19,
      "outputs": [
        {
          "output_type": "stream",
          "text": [
            "torch.Size([32, 5])\n",
            "torch.Size([32])\n"
          ],
          "name": "stdout"
        }
      ]
    },
    {
      "cell_type": "code",
      "metadata": {
        "colab": {
          "base_uri": "https://localhost:8080/"
        },
        "id": "G4gxmj3Rd_Pr",
        "outputId": "7a99e672-1f52-4bb8-af34-34750df63f0c"
      },
      "source": [
        "next(iter(train_loader))"
      ],
      "execution_count": 20,
      "outputs": [
        {
          "output_type": "execute_result",
          "data": {
            "text/plain": [
              "[tensor([[4.0000e+03, 0.0000e+00, 2.2860e-01, 3.9600e+01, 2.5351e-03],\n",
              "         [3.1500e+02, 3.0000e+00, 3.0480e-01, 3.9600e+01, 4.9574e-03],\n",
              "         [2.5000e+03, 8.9000e+00, 1.0160e-01, 3.9600e+01, 1.2460e-02],\n",
              "         [2.5000e+02, 1.7400e+01, 2.5400e-02, 3.1700e+01, 1.7663e-02],\n",
              "         [3.1500e+03, 9.9000e+00, 1.5240e-01, 3.9600e+01, 2.3333e-02],\n",
              "         [2.0000e+03, 1.1200e+01, 5.0800e-02, 7.1300e+01, 1.4072e-02],\n",
              "         [2.0000e+02, 9.9000e+00, 1.5240e-01, 3.9600e+01, 2.3333e-02],\n",
              "         [4.0000e+03, 0.0000e+00, 3.0480e-01, 3.1700e+01, 3.3127e-03],\n",
              "         [2.5000e+03, 7.3000e+00, 2.2860e-01, 7.1300e+01, 1.0440e-02],\n",
              "         [4.0000e+02, 5.3000e+00, 2.2860e-01, 3.9600e+01, 6.1433e-03],\n",
              "         [6.3000e+03, 0.0000e+00, 2.2860e-01, 7.1300e+01, 2.1435e-03],\n",
              "         [2.5000e+03, 9.5000e+00, 2.5400e-02, 5.5500e+01, 4.3284e-03],\n",
              "         [5.0000e+03, 0.0000e+00, 1.0160e-01, 7.1300e+01, 1.2107e-03],\n",
              "         [2.5000e+02, 0.0000e+00, 3.0480e-01, 3.9600e+01, 3.1014e-03],\n",
              "         [5.0000e+02, 6.7000e+00, 1.0160e-01, 3.1700e+01, 5.9293e-03],\n",
              "         [1.6000e+03, 2.0000e+00, 2.2860e-01, 7.1300e+01, 2.9303e-03],\n",
              "         [4.0000e+03, 2.0000e+00, 2.2860e-01, 5.5500e+01, 3.1352e-03],\n",
              "         [4.0000e+02, 0.0000e+00, 2.2860e-01, 5.5500e+01, 2.2934e-03],\n",
              "         [8.0000e+02, 6.7000e+00, 1.0160e-01, 5.5500e+01, 5.2139e-03],\n",
              "         [3.1500e+03, 1.2300e+01, 1.0160e-01, 5.5500e+01, 3.6823e-02],\n",
              "         [6.3000e+03, 9.5000e+00, 2.5400e-02, 7.1300e+01, 4.2065e-03],\n",
              "         [2.0000e+03, 6.7000e+00, 1.0160e-01, 3.9600e+01, 5.7808e-03],\n",
              "         [8.0000e+02, 2.0000e+00, 2.2860e-01, 7.1300e+01, 2.9303e-03],\n",
              "         [4.0000e+02, 4.0000e+00, 2.2860e-01, 3.9600e+01, 4.7380e-03],\n",
              "         [3.1500e+02, 4.0000e+00, 2.2860e-01, 3.9600e+01, 4.7380e-03],\n",
              "         [4.0000e+03, 1.2300e+01, 1.0160e-01, 5.5500e+01, 3.6823e-02],\n",
              "         [1.6000e+03, 0.0000e+00, 2.2860e-01, 3.9600e+01, 2.5351e-03],\n",
              "         [1.2500e+03, 1.5600e+01, 1.0160e-01, 7.1300e+01, 4.3726e-02],\n",
              "         [4.0000e+03, 0.0000e+00, 5.0800e-02, 7.1300e+01, 7.4048e-04],\n",
              "         [1.6000e+03, 2.7000e+00, 1.5240e-01, 3.9600e+01, 2.9480e-03],\n",
              "         [2.0000e+02, 9.5000e+00, 2.5400e-02, 3.1700e+01, 4.6138e-03],\n",
              "         [3.1500e+03, 0.0000e+00, 1.5240e-01, 3.9600e+01, 1.9329e-03]]),\n",
              " tensor([123.4650, 123.3120, 119.1900, 116.9560, 113.5250, 133.3110, 127.3150,\n",
              "         118.1450, 122.0880, 131.2210, 122.0440, 134.1520, 130.7950, 119.3190,\n",
              "         130.2060, 127.7960, 122.2320, 121.6600, 135.9530, 116.9140, 127.2460,\n",
              "         122.2350, 128.2160, 123.8790, 122.2290, 114.4040, 127.0950, 123.1780,\n",
              "         134.4300, 130.0490, 119.1460, 125.6030])]"
            ]
          },
          "metadata": {
            "tags": []
          },
          "execution_count": 20
        }
      ]
    },
    {
      "cell_type": "code",
      "metadata": {
        "id": "y85mQMOnUJuu"
      },
      "source": [
        "N_input_features = X_train.shape[1]"
      ],
      "execution_count": 21,
      "outputs": []
    },
    {
      "cell_type": "code",
      "metadata": {
        "id": "nN5IPcIMUlss"
      },
      "source": [
        "N_output_features = 1"
      ],
      "execution_count": 22,
      "outputs": []
    },
    {
      "cell_type": "code",
      "metadata": {
        "id": "y2fLSsqhjOte"
      },
      "source": [
        "class LinearRegressionModel(torch.nn.Module):\n",
        "  \n",
        "    def __init__(self, N_input_features, N_output_features):\n",
        "        super(LinearRegressionModel, self).__init__()\n",
        "        self.linear = torch.nn.Linear(N_input_features, N_output_features)  # One in and one out\n",
        "  \n",
        "    def forward(self, x):\n",
        "        y_pred = self.linear(x)\n",
        "        return y_pred"
      ],
      "execution_count": 23,
      "outputs": []
    },
    {
      "cell_type": "code",
      "metadata": {
        "colab": {
          "base_uri": "https://localhost:8080/"
        },
        "id": "T39EEtAEHl6Y",
        "outputId": "7ee2d613-64bb-4066-8648-05bbde46ba5a"
      },
      "source": [
        "# Define model\n",
        "model = LinearRegressionModel(N_input_features, N_output_features) # nn.Linear(in_features,out_features)\n",
        "# printing the model Parameters\n",
        "print(list(model.parameters()))\n",
        "\n",
        "#Define the loss function\n",
        "criterion = torch.nn.MSELoss(size_average = False)\n",
        "\n",
        "# Define SGD optimizer with learning rate 1e-5\n",
        "optimizer = torch.optim.SGD(model.parameters(), lr=1e-5)"
      ],
      "execution_count": 34,
      "outputs": [
        {
          "output_type": "stream",
          "text": [
            "[Parameter containing:\n",
            "tensor([[-0.3958, -0.0951, -0.0523,  0.0970, -0.2945]], requires_grad=True), Parameter containing:\n",
            "tensor([0.3505], requires_grad=True)]\n"
          ],
          "name": "stdout"
        },
        {
          "output_type": "stream",
          "text": [
            "/usr/local/lib/python3.7/dist-packages/torch/nn/_reduction.py:42: UserWarning: size_average and reduce args will be deprecated, please use reduction='sum' instead.\n",
            "  warnings.warn(warning.format(ret))\n"
          ],
          "name": "stderr"
        }
      ]
    },
    {
      "cell_type": "code",
      "metadata": {
        "id": "6_GgN8omgydp"
      },
      "source": [
        "def train(epoch, model, train_loader, loss_function, optimizer, device):\n",
        "    \n",
        "    # activate the training mode\n",
        "    model.train()\n",
        "    \n",
        "    torch.set_grad_enabled(True)\n",
        "    \n",
        "    total_loss = 0\n",
        "    \n",
        "    # iteration over the mini-batches\n",
        "    for batch_idx, (data, target) in enumerate(train_loader):\n",
        "        \n",
        "        # transfer the data on the chosen device\n",
        "        data, target = data.to(device), target.to(device)\n",
        "        \n",
        "        # reinitialize the gradients to zero\n",
        "        optimizer.zero_grad()\n",
        "        \n",
        "        # forward propagation on the data\n",
        "        prediction = model(data)\n",
        "        \n",
        "        # compute the loss function w.r.t. the targets\n",
        "        loss = loss_function(prediction, target)\n",
        "        \n",
        "        # execute the backpropagation\n",
        "        loss.backward()\n",
        "        \n",
        "        # execute an optimization step\n",
        "        optimizer.step()\n",
        "        \n",
        "        # accumulate the loss\n",
        "        total_loss += loss.item()*len(data)\n",
        "        \n",
        "    # compute the average loss per epoch\n",
        "    mean_loss = total_loss/len(train_loader.dataset)\n",
        "        \n",
        "    print('Train Epoch: {}   Avg_Loss: {:.5f}/{}'.format(\n",
        "        epoch, mean_loss, len(train_loader.dataset)))   \n",
        "    \n",
        "    # return the average loss\n",
        "    return mean_loss"
      ],
      "execution_count": 35,
      "outputs": []
    },
    {
      "cell_type": "code",
      "metadata": {
        "id": "tAdTNGrshx1K"
      },
      "source": [
        "def evaluate(model, eval_loader, loss_function, device):\n",
        "    \n",
        "    # activate the evaluation mode\n",
        "    model.eval()\n",
        "    \n",
        "    total_loss = 0\n",
        "    \n",
        "    with torch.no_grad():\n",
        "    \n",
        "        # iterate over the batches\n",
        "        for batch_idx, (data, target) in enumerate(eval_loader):\n",
        "\n",
        "            # transfer the data on the chosen device\n",
        "            data, target = data.to(device), target.to(device)\n",
        "\n",
        "            # forward propagation on the data\n",
        "            prediction = model(data)\n",
        "\n",
        "            # compute the loss function w.r.t. the targets\n",
        "            loss = loss_function(prediction, target)           \n",
        "\n",
        "\n",
        "            # accumulate the loss\n",
        "            total_loss += loss.item()*len(data)        \n",
        "          \n",
        "    # compute the average loss per epoch\n",
        "    mean_loss = total_loss/len(eval_loader.dataset)\n",
        "        \n",
        "    print('Eval:  Avg_Loss: {:.5f}/{}'.format(\n",
        "        mean_loss, len(eval_loader.dataset))) \n",
        "    \n",
        "    # return the average loss and the accuracy\n",
        "    return mean_loss"
      ],
      "execution_count": 36,
      "outputs": []
    },
    {
      "cell_type": "code",
      "metadata": {
        "id": "1A_NzhwIhldx"
      },
      "source": [
        "def save_model(epoch, model, path='./'):\n",
        "    \n",
        "    # creating the file name indexed by the epoch value\n",
        "    filename = path + 'neural_network_{}.pt'.format(epoch)\n",
        "    \n",
        "    # saving the model parameters\n",
        "    torch.save(model.state_dict(), filename)\n",
        "    \n",
        "    return model"
      ],
      "execution_count": 27,
      "outputs": []
    },
    {
      "cell_type": "code",
      "metadata": {
        "id": "nFrg204hhoAo"
      },
      "source": [
        "def load_model(epoch, model, path='./'):\n",
        "    \n",
        "    # creating the file name indexed by the epoch value\n",
        "    filename = path + 'neural_network_{}.pt'.format(epoch)\n",
        "    \n",
        "    # loading the parameters of the saved model\n",
        "    model.load_state_dict(torch.load(filename))\n",
        "    \n",
        "    return model"
      ],
      "execution_count": 28,
      "outputs": []
    },
    {
      "cell_type": "code",
      "metadata": {
        "colab": {
          "base_uri": "https://localhost:8080/"
        },
        "id": "QArHDq91iDcp",
        "outputId": "0d7c49b3-60c2-4687-c585-c0f2690db3b5"
      },
      "source": [
        "# maximum number of epoch\n",
        "numEpochs = 200\n",
        "\n",
        "# Saving frequency\n",
        "checkpoint_freq = 10\n",
        "\n",
        "# Directory for data backup\n",
        "path = './'\n",
        "\n",
        "# Accumulators of average losses obtained per epoch\n",
        "train_losses = []\n",
        "val_losses = []\n",
        "\n",
        "# Model definition\n",
        "#model = model()\n",
        "\n",
        "# Load the model on the chosen device\n",
        "model = model.to(device)\n",
        "#load_model(numEpochs, neural_net, path)\n",
        "# Optimizer definition\n",
        "optimizer = optim.Adam(model.parameters(), lr=0.001) \n",
        "# optimizer = optim.SGD(neural_net.parameters(), lr=0.001) \n",
        "\n",
        "\n",
        "# Learning loop\n",
        "for epoch in range(1, numEpochs + 1):\n",
        "    \n",
        "    # train the model with the train dataset\n",
        "    train_loss = train(epoch, model, train_loader, criterion, optimizer, device)   \n",
        "    \n",
        "    # evaluate the model with the validation dataset\n",
        "    val_loss = evaluate(model, val_loader, criterion, device)       \n",
        "    \n",
        "    # Save the losses obtained\n",
        "    train_losses.append(train_loss)    \n",
        "    val_losses.append(val_loss)\n",
        "    \n",
        "    # Checkpoint\n",
        "    if epoch % checkpoint_freq ==0:\n",
        "        save_model(epoch, model, path)\n",
        "\n",
        "# Save the model at the end of the training\n",
        "save_model(numEpochs, model, path)\n",
        "    \n",
        "print(\"\\n\\n\\nOptimization ended.\\n\")    "
      ],
      "execution_count": 236,
      "outputs": [
        {
          "output_type": "stream",
          "text": [
            "/usr/local/lib/python3.7/dist-packages/torch/nn/modules/loss.py:528: UserWarning: Using a target size (torch.Size([32])) that is different to the input size (torch.Size([32, 1])). This will likely lead to incorrect results due to broadcasting. Please ensure they have the same size.\n",
            "  return F.mse_loss(input, target, reduction=self.reduction)\n",
            "/usr/local/lib/python3.7/dist-packages/torch/nn/modules/loss.py:528: UserWarning: Using a target size (torch.Size([5])) that is different to the input size (torch.Size([5, 1])). This will likely lead to incorrect results due to broadcasting. Please ensure they have the same size.\n",
            "  return F.mse_loss(input, target, reduction=self.reduction)\n",
            "/usr/local/lib/python3.7/dist-packages/torch/nn/modules/loss.py:528: UserWarning: Using a target size (torch.Size([12])) that is different to the input size (torch.Size([12, 1])). This will likely lead to incorrect results due to broadcasting. Please ensure they have the same size.\n",
            "  return F.mse_loss(input, target, reduction=self.reduction)\n"
          ],
          "name": "stderr"
        },
        {
          "output_type": "stream",
          "text": [
            "Train Epoch: 1   Avg_Loss: 1357615.48685/901\n",
            "Eval:  Avg_Loss: 1234568.67125/300\n",
            "Train Epoch: 2   Avg_Loss: 1299268.80700/901\n",
            "Eval:  Avg_Loss: 1218496.32292/300\n",
            "Train Epoch: 3   Avg_Loss: 1273051.67659/901\n",
            "Eval:  Avg_Loss: 1206353.26542/300\n",
            "Train Epoch: 4   Avg_Loss: 1259688.21222/901\n",
            "Eval:  Avg_Loss: 1201822.71313/300\n",
            "Train Epoch: 5   Avg_Loss: 1255275.24230/901\n",
            "Eval:  Avg_Loss: 1202747.59271/300\n",
            "Train Epoch: 6   Avg_Loss: 1251986.65716/901\n",
            "Eval:  Avg_Loss: 1189471.70271/300\n",
            "Train Epoch: 7   Avg_Loss: 1232440.34667/901\n",
            "Eval:  Avg_Loss: 1177834.22917/300\n",
            "Train Epoch: 8   Avg_Loss: 1229507.58013/901\n",
            "Eval:  Avg_Loss: 1176764.82667/300\n",
            "Train Epoch: 9   Avg_Loss: 1221564.28167/901\n",
            "Eval:  Avg_Loss: 1167391.84792/300\n",
            "Train Epoch: 10   Avg_Loss: 1231085.02343/901\n",
            "Eval:  Avg_Loss: 1164613.90375/300\n",
            "Train Epoch: 11   Avg_Loss: 1214250.16992/901\n",
            "Eval:  Avg_Loss: 1184708.58833/300\n",
            "Train Epoch: 12   Avg_Loss: 1233572.81373/901\n",
            "Eval:  Avg_Loss: 1163122.62333/300\n",
            "Train Epoch: 13   Avg_Loss: 1221527.63839/901\n",
            "Eval:  Avg_Loss: 1161194.22375/300\n",
            "Train Epoch: 14   Avg_Loss: 1207853.09066/901\n",
            "Eval:  Avg_Loss: 1161141.59104/300\n",
            "Train Epoch: 15   Avg_Loss: 1215280.11156/901\n",
            "Eval:  Avg_Loss: 1158604.51063/300\n",
            "Train Epoch: 16   Avg_Loss: 1211209.02658/901\n",
            "Eval:  Avg_Loss: 1159771.02104/300\n",
            "Train Epoch: 17   Avg_Loss: 1199534.54390/901\n",
            "Eval:  Avg_Loss: 1157091.25792/300\n",
            "Train Epoch: 18   Avg_Loss: 1212379.90588/901\n",
            "Eval:  Avg_Loss: 1159418.22250/300\n",
            "Train Epoch: 19   Avg_Loss: 1209979.78993/901\n",
            "Eval:  Avg_Loss: 1160227.34625/300\n",
            "Train Epoch: 20   Avg_Loss: 1209768.14870/901\n",
            "Eval:  Avg_Loss: 1160478.11771/300\n",
            "Train Epoch: 21   Avg_Loss: 1206336.19068/901\n",
            "Eval:  Avg_Loss: 1165166.52792/300\n",
            "Train Epoch: 22   Avg_Loss: 1210060.64011/901\n",
            "Eval:  Avg_Loss: 1168894.31542/300\n",
            "Train Epoch: 23   Avg_Loss: 1205282.63726/901\n",
            "Eval:  Avg_Loss: 1164055.54396/300\n",
            "Train Epoch: 24   Avg_Loss: 1190893.59655/901\n",
            "Eval:  Avg_Loss: 1157101.04833/300\n",
            "Train Epoch: 25   Avg_Loss: 1202395.70957/901\n",
            "Eval:  Avg_Loss: 1164658.44958/300\n",
            "Train Epoch: 26   Avg_Loss: 1207454.00320/901\n",
            "Eval:  Avg_Loss: 1152906.30375/300\n",
            "Train Epoch: 27   Avg_Loss: 1212294.19049/901\n",
            "Eval:  Avg_Loss: 1165286.39625/300\n",
            "Train Epoch: 28   Avg_Loss: 1221723.11371/901\n",
            "Eval:  Avg_Loss: 1151742.13250/300\n",
            "Train Epoch: 29   Avg_Loss: 1200344.31323/901\n",
            "Eval:  Avg_Loss: 1153168.17312/300\n",
            "Train Epoch: 30   Avg_Loss: 1205121.52737/901\n",
            "Eval:  Avg_Loss: 1186447.36396/300\n",
            "Train Epoch: 31   Avg_Loss: 1204584.67920/901\n",
            "Eval:  Avg_Loss: 1151901.44271/300\n",
            "Train Epoch: 32   Avg_Loss: 1206295.62952/901\n",
            "Eval:  Avg_Loss: 1167597.90875/300\n",
            "Train Epoch: 33   Avg_Loss: 1217069.15647/901\n",
            "Eval:  Avg_Loss: 1199086.98354/300\n",
            "Train Epoch: 34   Avg_Loss: 1210676.43337/901\n",
            "Eval:  Avg_Loss: 1159956.62750/300\n",
            "Train Epoch: 35   Avg_Loss: 1235125.46927/901\n",
            "Eval:  Avg_Loss: 1162373.92833/300\n",
            "Train Epoch: 36   Avg_Loss: 1192733.42448/901\n",
            "Eval:  Avg_Loss: 1151331.34667/300\n",
            "Train Epoch: 37   Avg_Loss: 1200098.81565/901\n",
            "Eval:  Avg_Loss: 1147751.20417/300\n",
            "Train Epoch: 38   Avg_Loss: 1203706.96735/901\n",
            "Eval:  Avg_Loss: 1179457.17625/300\n",
            "Train Epoch: 39   Avg_Loss: 1205892.26506/901\n",
            "Eval:  Avg_Loss: 1180857.27917/300\n",
            "Train Epoch: 40   Avg_Loss: 1200792.32511/901\n",
            "Eval:  Avg_Loss: 1175856.79521/300\n",
            "Train Epoch: 41   Avg_Loss: 1209842.15495/901\n",
            "Eval:  Avg_Loss: 1145354.23396/300\n",
            "Train Epoch: 42   Avg_Loss: 1186040.40341/901\n",
            "Eval:  Avg_Loss: 1162249.37500/300\n",
            "Train Epoch: 43   Avg_Loss: 1197806.27267/901\n",
            "Eval:  Avg_Loss: 1152427.74708/300\n",
            "Train Epoch: 44   Avg_Loss: 1231453.69881/901\n",
            "Eval:  Avg_Loss: 1159978.19250/300\n",
            "Train Epoch: 45   Avg_Loss: 1200140.73414/901\n",
            "Eval:  Avg_Loss: 1145416.29500/300\n",
            "Train Epoch: 46   Avg_Loss: 1196601.02701/901\n",
            "Eval:  Avg_Loss: 1152690.91396/300\n",
            "Train Epoch: 47   Avg_Loss: 1189058.67696/901\n",
            "Eval:  Avg_Loss: 1145972.64375/300\n",
            "Train Epoch: 48   Avg_Loss: 1194258.86491/901\n",
            "Eval:  Avg_Loss: 1151313.04917/300\n",
            "Train Epoch: 49   Avg_Loss: 1183092.31974/901\n",
            "Eval:  Avg_Loss: 1141683.95021/300\n",
            "Train Epoch: 50   Avg_Loss: 1185847.04242/901\n",
            "Eval:  Avg_Loss: 1170039.32458/300\n",
            "Train Epoch: 51   Avg_Loss: 1205441.33550/901\n",
            "Eval:  Avg_Loss: 1140969.28250/300\n",
            "Train Epoch: 52   Avg_Loss: 1189273.17043/901\n",
            "Eval:  Avg_Loss: 1140472.21875/300\n",
            "Train Epoch: 53   Avg_Loss: 1186641.79944/901\n",
            "Eval:  Avg_Loss: 1139700.42833/300\n",
            "Train Epoch: 54   Avg_Loss: 1192227.47682/901\n",
            "Eval:  Avg_Loss: 1143185.98708/300\n",
            "Train Epoch: 55   Avg_Loss: 1186911.64947/901\n",
            "Eval:  Avg_Loss: 1153276.26104/300\n",
            "Train Epoch: 56   Avg_Loss: 1197747.41095/901\n",
            "Eval:  Avg_Loss: 1138221.83271/300\n",
            "Train Epoch: 57   Avg_Loss: 1192594.57712/901\n",
            "Eval:  Avg_Loss: 1139495.82917/300\n",
            "Train Epoch: 58   Avg_Loss: 1200510.56546/901\n",
            "Eval:  Avg_Loss: 1150731.62250/300\n",
            "Train Epoch: 59   Avg_Loss: 1198380.05087/901\n",
            "Eval:  Avg_Loss: 1142517.57417/300\n",
            "Train Epoch: 60   Avg_Loss: 1194089.06647/901\n",
            "Eval:  Avg_Loss: 1145325.96854/300\n",
            "Train Epoch: 61   Avg_Loss: 1188704.93975/901\n",
            "Eval:  Avg_Loss: 1156024.13792/300\n",
            "Train Epoch: 62   Avg_Loss: 1189568.25640/901\n",
            "Eval:  Avg_Loss: 1147299.60896/300\n",
            "Train Epoch: 63   Avg_Loss: 1209430.39039/901\n",
            "Eval:  Avg_Loss: 1161415.49021/300\n",
            "Train Epoch: 64   Avg_Loss: 1195053.89045/901\n",
            "Eval:  Avg_Loss: 1136311.69750/300\n",
            "Train Epoch: 65   Avg_Loss: 1199341.52721/901\n",
            "Eval:  Avg_Loss: 1134281.69000/300\n",
            "Train Epoch: 66   Avg_Loss: 1187840.14844/901\n",
            "Eval:  Avg_Loss: 1164137.70292/300\n",
            "Train Epoch: 67   Avg_Loss: 1183579.02620/901\n",
            "Eval:  Avg_Loss: 1153587.48375/300\n",
            "Train Epoch: 68   Avg_Loss: 1182058.47477/901\n",
            "Eval:  Avg_Loss: 1138984.57583/300\n",
            "Train Epoch: 69   Avg_Loss: 1195073.56893/901\n",
            "Eval:  Avg_Loss: 1161293.60187/300\n",
            "Train Epoch: 70   Avg_Loss: 1193278.22051/901\n",
            "Eval:  Avg_Loss: 1140449.67167/300\n",
            "Train Epoch: 71   Avg_Loss: 1184780.44863/901\n",
            "Eval:  Avg_Loss: 1169381.40125/300\n",
            "Train Epoch: 72   Avg_Loss: 1188969.23013/901\n",
            "Eval:  Avg_Loss: 1129858.07812/300\n",
            "Train Epoch: 73   Avg_Loss: 1198210.95574/901\n",
            "Eval:  Avg_Loss: 1157134.71833/300\n",
            "Train Epoch: 74   Avg_Loss: 1185612.32226/901\n",
            "Eval:  Avg_Loss: 1141733.92958/300\n",
            "Train Epoch: 75   Avg_Loss: 1197446.38603/901\n",
            "Eval:  Avg_Loss: 1160767.82187/300\n",
            "Train Epoch: 76   Avg_Loss: 1205649.63817/901\n",
            "Eval:  Avg_Loss: 1128314.38833/300\n",
            "Train Epoch: 77   Avg_Loss: 1176445.95788/901\n",
            "Eval:  Avg_Loss: 1142139.70167/300\n",
            "Train Epoch: 78   Avg_Loss: 1183329.60302/901\n",
            "Eval:  Avg_Loss: 1128104.25042/300\n",
            "Train Epoch: 79   Avg_Loss: 1174969.85359/901\n",
            "Eval:  Avg_Loss: 1138166.00875/300\n",
            "Train Epoch: 80   Avg_Loss: 1172885.84655/901\n",
            "Eval:  Avg_Loss: 1126311.18542/300\n",
            "Train Epoch: 81   Avg_Loss: 1166658.08377/901\n",
            "Eval:  Avg_Loss: 1132515.96521/300\n",
            "Train Epoch: 82   Avg_Loss: 1188117.46687/901\n",
            "Eval:  Avg_Loss: 1130821.64792/300\n",
            "Train Epoch: 83   Avg_Loss: 1163463.63357/901\n",
            "Eval:  Avg_Loss: 1128220.93917/300\n",
            "Train Epoch: 84   Avg_Loss: 1166819.31325/901\n",
            "Eval:  Avg_Loss: 1142793.64667/300\n",
            "Train Epoch: 85   Avg_Loss: 1181295.96078/901\n",
            "Eval:  Avg_Loss: 1138507.67271/300\n",
            "Train Epoch: 86   Avg_Loss: 1196159.01326/901\n",
            "Eval:  Avg_Loss: 1147225.95167/300\n",
            "Train Epoch: 87   Avg_Loss: 1188751.34605/901\n",
            "Eval:  Avg_Loss: 1122538.43375/300\n",
            "Train Epoch: 88   Avg_Loss: 1174083.57240/901\n",
            "Eval:  Avg_Loss: 1129223.36167/300\n",
            "Train Epoch: 89   Avg_Loss: 1166219.71004/901\n",
            "Eval:  Avg_Loss: 1140326.00458/300\n",
            "Train Epoch: 90   Avg_Loss: 1168473.93875/901\n",
            "Eval:  Avg_Loss: 1123254.27979/300\n",
            "Train Epoch: 91   Avg_Loss: 1163018.90987/901\n",
            "Eval:  Avg_Loss: 1120227.34458/300\n",
            "Train Epoch: 92   Avg_Loss: 1176664.99425/901\n",
            "Eval:  Avg_Loss: 1121565.74833/300\n",
            "Train Epoch: 93   Avg_Loss: 1171106.95803/901\n",
            "Eval:  Avg_Loss: 1119374.78708/300\n",
            "Train Epoch: 94   Avg_Loss: 1172627.93003/901\n",
            "Eval:  Avg_Loss: 1122497.02125/300\n",
            "Train Epoch: 95   Avg_Loss: 1180777.33865/901\n",
            "Eval:  Avg_Loss: 1133474.56438/300\n",
            "Train Epoch: 96   Avg_Loss: 1188384.81935/901\n",
            "Eval:  Avg_Loss: 1120356.31292/300\n",
            "Train Epoch: 97   Avg_Loss: 1178355.34879/901\n",
            "Eval:  Avg_Loss: 1128629.86042/300\n",
            "Train Epoch: 98   Avg_Loss: 1183496.30324/901\n",
            "Eval:  Avg_Loss: 1135402.11875/300\n",
            "Train Epoch: 99   Avg_Loss: 1158449.78310/901\n",
            "Eval:  Avg_Loss: 1128355.28792/300\n",
            "Train Epoch: 100   Avg_Loss: 1169962.75620/901\n",
            "Eval:  Avg_Loss: 1148907.71708/300\n",
            "Train Epoch: 101   Avg_Loss: 1176595.38130/901\n",
            "Eval:  Avg_Loss: 1130296.94583/300\n",
            "Train Epoch: 102   Avg_Loss: 1168826.67213/901\n",
            "Eval:  Avg_Loss: 1114812.83729/300\n",
            "Train Epoch: 103   Avg_Loss: 1162365.33170/901\n",
            "Eval:  Avg_Loss: 1142282.89500/300\n",
            "Train Epoch: 104   Avg_Loss: 1204529.34123/901\n",
            "Eval:  Avg_Loss: 1128692.66354/300\n",
            "Train Epoch: 105   Avg_Loss: 1156353.76279/901\n",
            "Eval:  Avg_Loss: 1128200.77958/300\n",
            "Train Epoch: 106   Avg_Loss: 1161759.08999/901\n",
            "Eval:  Avg_Loss: 1146353.72417/300\n",
            "Train Epoch: 107   Avg_Loss: 1183055.18061/901\n",
            "Eval:  Avg_Loss: 1134674.34708/300\n",
            "Train Epoch: 108   Avg_Loss: 1171334.84627/901\n",
            "Eval:  Avg_Loss: 1136901.78750/300\n",
            "Train Epoch: 109   Avg_Loss: 1192224.20686/901\n",
            "Eval:  Avg_Loss: 1124098.26875/300\n",
            "Train Epoch: 110   Avg_Loss: 1161541.71880/901\n",
            "Eval:  Avg_Loss: 1135919.57583/300\n",
            "Train Epoch: 111   Avg_Loss: 1151385.71310/901\n",
            "Eval:  Avg_Loss: 1175409.84000/300\n",
            "Train Epoch: 112   Avg_Loss: 1179195.03161/901\n",
            "Eval:  Avg_Loss: 1147232.43750/300\n",
            "Train Epoch: 113   Avg_Loss: 1184000.07899/901\n",
            "Eval:  Avg_Loss: 1111816.32167/300\n",
            "Train Epoch: 114   Avg_Loss: 1155626.50163/901\n",
            "Eval:  Avg_Loss: 1110739.65458/300\n",
            "Train Epoch: 115   Avg_Loss: 1158849.39329/901\n",
            "Eval:  Avg_Loss: 1125418.86458/300\n",
            "Train Epoch: 116   Avg_Loss: 1164152.76937/901\n",
            "Eval:  Avg_Loss: 1112040.67000/300\n",
            "Train Epoch: 117   Avg_Loss: 1165209.11046/901\n",
            "Eval:  Avg_Loss: 1118311.23792/300\n",
            "Train Epoch: 118   Avg_Loss: 1147980.64110/901\n",
            "Eval:  Avg_Loss: 1106874.24458/300\n",
            "Train Epoch: 119   Avg_Loss: 1154979.78801/901\n",
            "Eval:  Avg_Loss: 1107699.85917/300\n",
            "Train Epoch: 120   Avg_Loss: 1162318.92491/901\n",
            "Eval:  Avg_Loss: 1124621.15417/300\n",
            "Train Epoch: 121   Avg_Loss: 1150230.66988/901\n",
            "Eval:  Avg_Loss: 1105694.27792/300\n",
            "Train Epoch: 122   Avg_Loss: 1157266.76974/901\n",
            "Eval:  Avg_Loss: 1132329.56354/300\n",
            "Train Epoch: 123   Avg_Loss: 1156593.01359/901\n",
            "Eval:  Avg_Loss: 1105649.88667/300\n",
            "Train Epoch: 124   Avg_Loss: 1150142.30748/901\n",
            "Eval:  Avg_Loss: 1104537.45833/300\n",
            "Train Epoch: 125   Avg_Loss: 1162166.96315/901\n",
            "Eval:  Avg_Loss: 1104105.07542/300\n",
            "Train Epoch: 126   Avg_Loss: 1156473.81290/901\n",
            "Eval:  Avg_Loss: 1104563.53542/300\n",
            "Train Epoch: 127   Avg_Loss: 1158663.46124/901\n",
            "Eval:  Avg_Loss: 1102864.80646/300\n",
            "Train Epoch: 128   Avg_Loss: 1160248.10908/901\n",
            "Eval:  Avg_Loss: 1138572.89875/300\n",
            "Train Epoch: 129   Avg_Loss: 1153211.94776/901\n",
            "Eval:  Avg_Loss: 1105837.99250/300\n",
            "Train Epoch: 130   Avg_Loss: 1146405.92345/901\n",
            "Eval:  Avg_Loss: 1113322.81167/300\n",
            "Train Epoch: 131   Avg_Loss: 1164116.47709/901\n",
            "Eval:  Avg_Loss: 1100710.59083/300\n",
            "Train Epoch: 132   Avg_Loss: 1147469.83427/901\n",
            "Eval:  Avg_Loss: 1099629.31458/300\n",
            "Train Epoch: 133   Avg_Loss: 1159953.26679/901\n",
            "Eval:  Avg_Loss: 1113280.80958/300\n",
            "Train Epoch: 134   Avg_Loss: 1165610.28971/901\n",
            "Eval:  Avg_Loss: 1111172.32729/300\n",
            "Train Epoch: 135   Avg_Loss: 1157210.03378/901\n",
            "Eval:  Avg_Loss: 1105070.09979/300\n",
            "Train Epoch: 136   Avg_Loss: 1184259.48376/901\n",
            "Eval:  Avg_Loss: 1111133.57458/300\n",
            "Train Epoch: 137   Avg_Loss: 1158052.30705/901\n",
            "Eval:  Avg_Loss: 1105351.91917/300\n",
            "Train Epoch: 138   Avg_Loss: 1145292.90021/901\n",
            "Eval:  Avg_Loss: 1107007.69333/300\n",
            "Train Epoch: 139   Avg_Loss: 1134077.86890/901\n",
            "Eval:  Avg_Loss: 1102377.17312/300\n",
            "Train Epoch: 140   Avg_Loss: 1146571.70643/901\n",
            "Eval:  Avg_Loss: 1103076.61458/300\n",
            "Train Epoch: 141   Avg_Loss: 1156491.90428/901\n",
            "Eval:  Avg_Loss: 1097855.51417/300\n",
            "Train Epoch: 142   Avg_Loss: 1153604.65138/901\n",
            "Eval:  Avg_Loss: 1094888.07833/300\n",
            "Train Epoch: 143   Avg_Loss: 1146447.18528/901\n",
            "Eval:  Avg_Loss: 1094496.31208/300\n",
            "Train Epoch: 144   Avg_Loss: 1140658.34741/901\n",
            "Eval:  Avg_Loss: 1097498.06937/300\n",
            "Train Epoch: 145   Avg_Loss: 1141605.37244/901\n",
            "Eval:  Avg_Loss: 1103629.02958/300\n",
            "Train Epoch: 146   Avg_Loss: 1147106.73633/901\n",
            "Eval:  Avg_Loss: 1107003.03125/300\n",
            "Train Epoch: 147   Avg_Loss: 1154375.63026/901\n",
            "Eval:  Avg_Loss: 1092861.15500/300\n",
            "Train Epoch: 148   Avg_Loss: 1139412.88646/901\n",
            "Eval:  Avg_Loss: 1092879.18229/300\n",
            "Train Epoch: 149   Avg_Loss: 1157870.48320/901\n",
            "Eval:  Avg_Loss: 1091963.98604/300\n",
            "Train Epoch: 150   Avg_Loss: 1145707.79002/901\n",
            "Eval:  Avg_Loss: 1105625.64333/300\n",
            "Train Epoch: 151   Avg_Loss: 1146461.58522/901\n",
            "Eval:  Avg_Loss: 1105968.52333/300\n",
            "Train Epoch: 152   Avg_Loss: 1129927.67432/901\n",
            "Eval:  Avg_Loss: 1092112.19271/300\n",
            "Train Epoch: 153   Avg_Loss: 1150007.86213/901\n",
            "Eval:  Avg_Loss: 1095653.61312/300\n",
            "Train Epoch: 154   Avg_Loss: 1129695.94125/901\n",
            "Eval:  Avg_Loss: 1090498.25250/300\n",
            "Train Epoch: 155   Avg_Loss: 1153699.60190/901\n",
            "Eval:  Avg_Loss: 1088369.49229/300\n",
            "Train Epoch: 156   Avg_Loss: 1130105.36938/901\n",
            "Eval:  Avg_Loss: 1092082.39979/300\n",
            "Train Epoch: 157   Avg_Loss: 1143517.53710/901\n",
            "Eval:  Avg_Loss: 1120401.30833/300\n",
            "Train Epoch: 158   Avg_Loss: 1149013.95227/901\n",
            "Eval:  Avg_Loss: 1123829.77646/300\n",
            "Train Epoch: 159   Avg_Loss: 1171325.73552/901\n",
            "Eval:  Avg_Loss: 1102898.26937/300\n",
            "Train Epoch: 160   Avg_Loss: 1144221.46776/901\n",
            "Eval:  Avg_Loss: 1086025.97833/300\n",
            "Train Epoch: 161   Avg_Loss: 1137953.85293/901\n",
            "Eval:  Avg_Loss: 1090552.89542/300\n",
            "Train Epoch: 162   Avg_Loss: 1135887.25654/901\n",
            "Eval:  Avg_Loss: 1119117.60042/300\n",
            "Train Epoch: 163   Avg_Loss: 1147034.20629/901\n",
            "Eval:  Avg_Loss: 1087740.65917/300\n",
            "Train Epoch: 164   Avg_Loss: 1128615.87777/901\n",
            "Eval:  Avg_Loss: 1083793.71667/300\n",
            "Train Epoch: 165   Avg_Loss: 1134157.09268/901\n",
            "Eval:  Avg_Loss: 1091827.62854/300\n",
            "Train Epoch: 166   Avg_Loss: 1138869.38241/901\n",
            "Eval:  Avg_Loss: 1083181.59375/300\n",
            "Train Epoch: 167   Avg_Loss: 1134978.69438/901\n",
            "Eval:  Avg_Loss: 1083551.87146/300\n",
            "Train Epoch: 168   Avg_Loss: 1134829.71454/901\n",
            "Eval:  Avg_Loss: 1087752.83688/300\n",
            "Train Epoch: 169   Avg_Loss: 1137539.15069/901\n",
            "Eval:  Avg_Loss: 1081749.49042/300\n",
            "Train Epoch: 170   Avg_Loss: 1141056.49112/901\n",
            "Eval:  Avg_Loss: 1080777.14792/300\n",
            "Train Epoch: 171   Avg_Loss: 1127158.10397/901\n",
            "Eval:  Avg_Loss: 1080516.25833/300\n",
            "Train Epoch: 172   Avg_Loss: 1122884.71528/901\n",
            "Eval:  Avg_Loss: 1081739.47542/300\n",
            "Train Epoch: 173   Avg_Loss: 1136607.21063/901\n",
            "Eval:  Avg_Loss: 1090156.69042/300\n",
            "Train Epoch: 174   Avg_Loss: 1128496.08057/901\n",
            "Eval:  Avg_Loss: 1096456.94042/300\n",
            "Train Epoch: 175   Avg_Loss: 1131114.10274/901\n",
            "Eval:  Avg_Loss: 1119506.27292/300\n",
            "Train Epoch: 176   Avg_Loss: 1137963.09838/901\n",
            "Eval:  Avg_Loss: 1082795.72333/300\n",
            "Train Epoch: 177   Avg_Loss: 1130967.77472/901\n",
            "Eval:  Avg_Loss: 1097504.54354/300\n",
            "Train Epoch: 178   Avg_Loss: 1124057.40328/901\n",
            "Eval:  Avg_Loss: 1077552.85521/300\n",
            "Train Epoch: 179   Avg_Loss: 1132169.21878/901\n",
            "Eval:  Avg_Loss: 1076937.24396/300\n",
            "Train Epoch: 180   Avg_Loss: 1131773.04750/901\n",
            "Eval:  Avg_Loss: 1086066.38792/300\n",
            "Train Epoch: 181   Avg_Loss: 1134149.66749/901\n",
            "Eval:  Avg_Loss: 1080993.15625/300\n",
            "Train Epoch: 182   Avg_Loss: 1121808.34231/901\n",
            "Eval:  Avg_Loss: 1085985.52875/300\n",
            "Train Epoch: 183   Avg_Loss: 1129140.06555/901\n",
            "Eval:  Avg_Loss: 1074669.55750/300\n",
            "Train Epoch: 184   Avg_Loss: 1129237.25724/901\n",
            "Eval:  Avg_Loss: 1075097.69083/300\n",
            "Train Epoch: 185   Avg_Loss: 1113562.36789/901\n",
            "Eval:  Avg_Loss: 1073583.83417/300\n",
            "Train Epoch: 186   Avg_Loss: 1125777.94555/901\n",
            "Eval:  Avg_Loss: 1105207.57542/300\n",
            "Train Epoch: 187   Avg_Loss: 1120354.71175/901\n",
            "Eval:  Avg_Loss: 1098782.52833/300\n",
            "Train Epoch: 188   Avg_Loss: 1129275.99449/901\n",
            "Eval:  Avg_Loss: 1073748.99458/300\n",
            "Train Epoch: 189   Avg_Loss: 1116575.02131/901\n",
            "Eval:  Avg_Loss: 1072886.71625/300\n",
            "Train Epoch: 190   Avg_Loss: 1115350.43003/901\n",
            "Eval:  Avg_Loss: 1071324.88333/300\n",
            "Train Epoch: 191   Avg_Loss: 1108041.76183/901\n",
            "Eval:  Avg_Loss: 1070811.25354/300\n",
            "Train Epoch: 192   Avg_Loss: 1114757.87295/901\n",
            "Eval:  Avg_Loss: 1072375.87167/300\n",
            "Train Epoch: 193   Avg_Loss: 1142794.84475/901\n",
            "Eval:  Avg_Loss: 1079633.22792/300\n",
            "Train Epoch: 194   Avg_Loss: 1122392.84641/901\n",
            "Eval:  Avg_Loss: 1080858.88250/300\n",
            "Train Epoch: 195   Avg_Loss: 1113952.19322/901\n",
            "Eval:  Avg_Loss: 1069451.52521/300\n",
            "Train Epoch: 196   Avg_Loss: 1129205.68930/901\n",
            "Eval:  Avg_Loss: 1107412.00458/300\n",
            "Train Epoch: 197   Avg_Loss: 1131797.79236/901\n",
            "Eval:  Avg_Loss: 1076563.22917/300\n",
            "Train Epoch: 198   Avg_Loss: 1104690.84718/901\n",
            "Eval:  Avg_Loss: 1068312.87042/300\n",
            "Train Epoch: 199   Avg_Loss: 1104320.45684/901\n",
            "Eval:  Avg_Loss: 1069255.95958/300\n",
            "Train Epoch: 200   Avg_Loss: 1127129.95010/901\n",
            "Eval:  Avg_Loss: 1081005.81375/300\n",
            "\n",
            "\n",
            "\n",
            "Optimization ended.\n",
            "\n"
          ],
          "name": "stdout"
        }
      ]
    },
    {
      "cell_type": "code",
      "metadata": {
        "colab": {
          "base_uri": "https://localhost:8080/",
          "height": 290
        },
        "id": "wXhMen3OI1wr",
        "outputId": "63fc4927-4550-4eff-d8e8-1e82b0c85c9c"
      },
      "source": [
        "import matplotlib.pyplot as plt\n",
        "%matplotlib inline\n",
        "x = list(range(len(train_losses)))\n",
        "ax = plt.subplot(111)\n",
        "plt.plot(x, train_losses, 'r', label='train')\n",
        "plt.plot(x, val_losses, 'g', label='validation')\n",
        "plt.xlabel('epoch')\n",
        "plt.ylabel('loss')\n",
        "plt.grid()"
      ],
      "execution_count": 237,
      "outputs": [
        {
          "output_type": "display_data",
          "data": {
            "image/png": "[encoded data removed]",
            "text/plain": [
              "<Figure size 432x288 with 1 Axes>"
            ]
          },
          "metadata": {
            "tags": [],
            "needs_background": "light"
          }
        }
      ]
    },
    {
      "cell_type": "code",
      "metadata": {
        "id": "UJrRRmKpLe4c"
      },
      "source": [
        "predictions = model(torch.from_numpy(X_test).float().to(device))"
      ],
      "execution_count": 238,
      "outputs": []
    },
    {
      "cell_type": "code",
      "metadata": {
        "colab": {
          "base_uri": "https://localhost:8080/"
        },
        "id": "MhYjfQ5jMWxF",
        "outputId": "356442e9-697b-4cfd-e26e-cd25bf8babfe"
      },
      "source": [
        "mae = mean_absolute_error(predictions.cpu().detach().numpy(), y_test)\n",
        "\n",
        "print(\"Mean Absolute Error :\", round(mae, 2))"
      ],
      "execution_count": 239,
      "outputs": [
        {
          "output_type": "stream",
          "text": [
            "Mean Absolute Error : 29.67\n"
          ],
          "name": "stdout"
        }
      ]
    },
    {
      "cell_type": "code",
      "metadata": {
        "colab": {
          "base_uri": "https://localhost:8080/",
          "height": 198
        },
        "id": "yKwkdD0meFsX",
        "outputId": "d87472b2-a00f-4849-bef6-f724164d3019"
      },
      "source": [
        "pred_series = pd.Series(predictions.cpu().detach().numpy().squeeze(), name=\"Predicted\")\n",
        "x_test_series = pd.DataFrame(X_test, columns =[\"Frequency\", \"Angle of attack\",\t\"Chord length\",\t\"Free-stream velocity\",\t\"Displacement thickness\"])\n",
        "y_test_series = pd.DataFrame(y_test, columns =[\"Scaled sound pressure level\"])\n",
        "submission = pd.concat([x_test_series, y_test_series, pred_series], axis=1)\n",
        "submission.head()"
      ],
      "execution_count": 241,
      "outputs": [
        {
          "output_type": "execute_result",
          "data": {
            "text/html": [
              "<div>\n",
              "<style scoped>\n",
              "    .dataframe tbody tr th:only-of-type {\n",
              "        vertical-align: middle;\n",
              "    }\n",
              "\n",
              "    .dataframe tbody tr th {\n",
              "        vertical-align: top;\n",
              "    }\n",
              "\n",
              "    .dataframe thead th {\n",
              "        text-align: right;\n",
              "    }\n",
              "</style>\n",
              "<table border=\"1\" class=\"dataframe\">\n",
              "  <thead>\n",
              "    <tr style=\"text-align: right;\">\n",
              "      <th></th>\n",
              "      <th>Frequency</th>\n",
              "      <th>Angle of attack</th>\n",
              "      <th>Chord length</th>\n",
              "      <th>Free-stream velocity</th>\n",
              "      <th>Displacement thickness</th>\n",
              "      <th>Scaled sound pressure level</th>\n",
              "      <th>Predicted</th>\n",
              "    </tr>\n",
              "  </thead>\n",
              "  <tbody>\n",
              "    <tr>\n",
              "      <th>0</th>\n",
              "      <td>4000.0</td>\n",
              "      <td>9.5</td>\n",
              "      <td>0.0254</td>\n",
              "      <td>31.7</td>\n",
              "      <td>0.004614</td>\n",
              "      <td>126.736</td>\n",
              "      <td>94.470444</td>\n",
              "    </tr>\n",
              "    <tr>\n",
              "      <th>1</th>\n",
              "      <td>3150.0</td>\n",
              "      <td>12.3</td>\n",
              "      <td>0.1016</td>\n",
              "      <td>39.6</td>\n",
              "      <td>0.040827</td>\n",
              "      <td>113.055</td>\n",
              "      <td>111.073074</td>\n",
              "    </tr>\n",
              "    <tr>\n",
              "      <th>2</th>\n",
              "      <td>250.0</td>\n",
              "      <td>17.4</td>\n",
              "      <td>0.0254</td>\n",
              "      <td>55.5</td>\n",
              "      <td>0.016571</td>\n",
              "      <td>110.491</td>\n",
              "      <td>137.394012</td>\n",
              "    </tr>\n",
              "    <tr>\n",
              "      <th>3</th>\n",
              "      <td>630.0</td>\n",
              "      <td>6.7</td>\n",
              "      <td>0.1016</td>\n",
              "      <td>55.5</td>\n",
              "      <td>0.005214</td>\n",
              "      <td>133.023</td>\n",
              "      <td>118.997917</td>\n",
              "    </tr>\n",
              "    <tr>\n",
              "      <th>4</th>\n",
              "      <td>6300.0</td>\n",
              "      <td>0.0</td>\n",
              "      <td>0.0508</td>\n",
              "      <td>39.6</td>\n",
              "      <td>0.000792</td>\n",
              "      <td>131.918</td>\n",
              "      <td>98.705559</td>\n",
              "    </tr>\n",
              "  </tbody>\n",
              "</table>\n",
              "</div>"
            ],
            "text/plain": [
              "   Frequency  Angle of attack  ...  Scaled sound pressure level   Predicted\n",
              "0     4000.0              9.5  ...                      126.736   94.470444\n",
              "1     3150.0             12.3  ...                      113.055  111.073074\n",
              "2      250.0             17.4  ...                      110.491  137.394012\n",
              "3      630.0              6.7  ...                      133.023  118.997917\n",
              "4     6300.0              0.0  ...                      131.918   98.705559\n",
              "\n",
              "[5 rows x 7 columns]"
            ]
          },
          "metadata": {
            "tags": []
          },
          "execution_count": 241
        }
      ]
    },
    {
      "cell_type": "code",
      "metadata": {
        "colab": {
          "base_uri": "https://localhost:8080/",
          "height": 388
        },
        "id": "wBK8WsSfueOZ",
        "outputId": "4c095d86-631f-4f4c-c019-0cb84a996850"
      },
      "source": [
        "def recursive_create_data(df, df2=None, order=1, ignore=None):\n",
        "  dfnew = df\n",
        "  if order <= 1:\n",
        "    if df2 is not None:\n",
        "      dfnew = df2 #pd.concat([df, df2], axis=1)\n",
        "      return dfnew\n",
        "    else:\n",
        "      return dfnew\n",
        "  else:\n",
        "    if df2 is None:\n",
        "      df2 = df\n",
        "    for col2 in df2.columns:\n",
        "      if col2 != ignore:\n",
        "        for col1 in df.columns:\n",
        "          if col1 != ignore:\n",
        "            keyword = col1 + ' by ' + col2\n",
        "            altkeyword = col2 + ' by ' + col1\n",
        "            if not keyword in dfnew.columns and not altkeyword in dfnew.columns:\n",
        "              dfnew = dfnew.assign(newcolumn=lambda dfnew: df[col1]*df2[col2])\n",
        "              dfnew.rename({'newcolumn': keyword}, axis=1, inplace=True)\n",
        "    return recursive_create_data(df, df2=dfnew, order=order-1, ignore=ignore)\n",
        "\n",
        "mae_series = []\n",
        "\n",
        "for order in range(6):\n",
        "  airfoil_data_order3 = recursive_create_data(airfoil_data, order=order, ignore='Scaled sound pressure level')\n",
        "  train3, validate3, test3 = np.split(\n",
        "    airfoil_data_order3.sample(frac=1, random_state=manualSeed), \n",
        "    [int(.6*len(airfoil_data_order3)), int(.8*len(airfoil_data_order3))])\n",
        "\n",
        "  # Remove the label column from X and create a label vectors.\n",
        "  X_train3 = train3.drop(['Scaled sound pressure level'], axis=1).to_numpy()\n",
        "  y_train3 = train3['Scaled sound pressure level'].to_numpy()\n",
        "\n",
        "  X_val3 = validate3.drop(['Scaled sound pressure level'], axis=1).to_numpy()\n",
        "  y_val3 = validate3['Scaled sound pressure level'].to_numpy()\n",
        "\n",
        "  X_test3 = test3.drop(['Scaled sound pressure level'], axis=1).to_numpy()\n",
        "  y_test3 = test3['Scaled sound pressure level'].to_numpy()\n",
        "\n",
        "  # Linear model object instantiation\n",
        "  lr3 = LinearRegression().fit(X_train3, y_train3)\n",
        "\n",
        "  predictions3 = lr3.predict(X_val3)\n",
        "\n",
        "  mae_series.append(mean_absolute_error(predictions3, y_val3))\n",
        "  print(\"Mean Absolute Error :\", round(mae_series[order], 2), \"Order: \", order)\n",
        "\n",
        "x = list(range(len(mae_series)))\n",
        "ax = plt.subplot(111)\n",
        "plt.plot(x, mae_series, 'r', label='train')\n",
        "plt.xlabel('epoch')\n",
        "plt.ylabel('loss')\n",
        "plt.grid()"
      ],
      "execution_count": 189,
      "outputs": [
        {
          "output_type": "stream",
          "text": [
            "Mean Absolute Error : 3.74 Order:  0\n",
            "Mean Absolute Error : 3.74 Order:  1\n",
            "Mean Absolute Error : 3.18 Order:  2\n",
            "Mean Absolute Error : 2.67 Order:  3\n",
            "Mean Absolute Error : 2.59 Order:  4\n",
            "Mean Absolute Error : 3.56 Order:  5\n"
          ],
          "name": "stdout"
        },
        {
          "output_type": "display_data",
          "data": {
            "image/png": "[encoded data removed]",
            "text/plain": [
              "<Figure size 432x288 with 1 Axes>"
            ]
          },
          "metadata": {
            "tags": [],
            "needs_background": "light"
          }
        }
      ]
    },
    {
      "cell_type": "code",
      "metadata": {
        "colab": {
          "base_uri": "https://localhost:8080/"
        },
        "id": "ZJKsJT5cYnxI",
        "outputId": "49604b44-f22c-49a9-c01e-594aa449d6ed"
      },
      "source": [
        "airfoil_data_order4 = recursive_create_data(airfoil_data, order=4, ignore='Scaled sound pressure level')\n",
        "train4, validate4, test4 = np.split(\n",
        "    airfoil_data_order4.sample(frac=1, random_state=manualSeed), \n",
        "    [int(.6*len(airfoil_data_order4)), int(.8*len(airfoil_data_order4))])\n",
        "\n",
        "# Remove the label column from X and create a label vectors.\n",
        "X_train4 = train4.drop(['Scaled sound pressure level'], axis=1).to_numpy()\n",
        "y_train4 = train4['Scaled sound pressure level'].to_numpy()\n",
        "\n",
        "X_val4 = validate3.drop(['Scaled sound pressure level'], axis=1).to_numpy()\n",
        "y_val4 = validate4['Scaled sound pressure level'].to_numpy()\n",
        "\n",
        "X_test4 = test4.drop(['Scaled sound pressure level'], axis=1).to_numpy()\n",
        "y_test4 = test4['Scaled sound pressure level'].to_numpy()\n",
        "\n",
        "# Linear model object instantiation\n",
        "lr4 = LinearRegression().fit(X_train4, y_train4)\n",
        "\n",
        "predictions4 = lr4.predict(X_test4)\n",
        "\n",
        "mae = mean_absolute_error(predictions4, y_test4)\n",
        "print(\"Mean Absolute Error :\", round(mae, 2))"
      ],
      "execution_count": 209,
      "outputs": [
        {
          "output_type": "stream",
          "text": [
            "Mean Absolute Error : 2.54\n"
          ],
          "name": "stdout"
        }
      ]
    },
    {
      "cell_type": "code",
      "metadata": {
        "colab": {
          "base_uri": "https://localhost:8080/",
          "height": 198
        },
        "id": "i_4xYni1djJg",
        "outputId": "253c27ca-bfda-4a65-c6d2-3e9c04bf8899"
      },
      "source": [
        "pred_series4 = pd.Series(predictions4, name=\"Predicted\")\n",
        "x_test_series = pd.DataFrame(X_test, columns =[\"Frequency\", \"Angle of attack\",\t\"Chord length\",\t\"Free-stream velocity\",\t\"Displacement thickness\"])\n",
        "y_test_series4 = pd.DataFrame(y_test4, columns =[\"Scaled sound pressure level\"])\n",
        "submission = pd.concat([x_test_series, y_test_series4, pred_series4], axis=1)\n",
        "submission.head()"
      ],
      "execution_count": 233,
      "outputs": [
        {
          "output_type": "execute_result",
          "data": {
            "text/html": [
              "<div>\n",
              "<style scoped>\n",
              "    .dataframe tbody tr th:only-of-type {\n",
              "        vertical-align: middle;\n",
              "    }\n",
              "\n",
              "    .dataframe tbody tr th {\n",
              "        vertical-align: top;\n",
              "    }\n",
              "\n",
              "    .dataframe thead th {\n",
              "        text-align: right;\n",
              "    }\n",
              "</style>\n",
              "<table border=\"1\" class=\"dataframe\">\n",
              "  <thead>\n",
              "    <tr style=\"text-align: right;\">\n",
              "      <th></th>\n",
              "      <th>Frequency</th>\n",
              "      <th>Angle of attack</th>\n",
              "      <th>Chord length</th>\n",
              "      <th>Free-stream velocity</th>\n",
              "      <th>Displacement thickness</th>\n",
              "      <th>Scaled sound pressure level</th>\n",
              "      <th>Predicted</th>\n",
              "    </tr>\n",
              "  </thead>\n",
              "  <tbody>\n",
              "    <tr>\n",
              "      <th>0</th>\n",
              "      <td>4000.0</td>\n",
              "      <td>9.5</td>\n",
              "      <td>0.0254</td>\n",
              "      <td>31.7</td>\n",
              "      <td>0.004614</td>\n",
              "      <td>126.736</td>\n",
              "      <td>127.780200</td>\n",
              "    </tr>\n",
              "    <tr>\n",
              "      <th>1</th>\n",
              "      <td>3150.0</td>\n",
              "      <td>12.3</td>\n",
              "      <td>0.1016</td>\n",
              "      <td>39.6</td>\n",
              "      <td>0.040827</td>\n",
              "      <td>113.055</td>\n",
              "      <td>114.041196</td>\n",
              "    </tr>\n",
              "    <tr>\n",
              "      <th>2</th>\n",
              "      <td>250.0</td>\n",
              "      <td>17.4</td>\n",
              "      <td>0.0254</td>\n",
              "      <td>55.5</td>\n",
              "      <td>0.016571</td>\n",
              "      <td>110.491</td>\n",
              "      <td>122.010578</td>\n",
              "    </tr>\n",
              "    <tr>\n",
              "      <th>3</th>\n",
              "      <td>630.0</td>\n",
              "      <td>6.7</td>\n",
              "      <td>0.1016</td>\n",
              "      <td>55.5</td>\n",
              "      <td>0.005214</td>\n",
              "      <td>133.023</td>\n",
              "      <td>130.286275</td>\n",
              "    </tr>\n",
              "    <tr>\n",
              "      <th>4</th>\n",
              "      <td>6300.0</td>\n",
              "      <td>0.0</td>\n",
              "      <td>0.0508</td>\n",
              "      <td>39.6</td>\n",
              "      <td>0.000792</td>\n",
              "      <td>131.918</td>\n",
              "      <td>134.345562</td>\n",
              "    </tr>\n",
              "  </tbody>\n",
              "</table>\n",
              "</div>"
            ],
            "text/plain": [
              "   Frequency  Angle of attack  ...  Scaled sound pressure level   Predicted\n",
              "0     4000.0              9.5  ...                      126.736  127.780200\n",
              "1     3150.0             12.3  ...                      113.055  114.041196\n",
              "2      250.0             17.4  ...                      110.491  122.010578\n",
              "3      630.0              6.7  ...                      133.023  130.286275\n",
              "4     6300.0              0.0  ...                      131.918  134.345562\n",
              "\n",
              "[5 rows x 7 columns]"
            ]
          },
          "metadata": {
            "tags": []
          },
          "execution_count": 233
        }
      ]
    }
  ]
}