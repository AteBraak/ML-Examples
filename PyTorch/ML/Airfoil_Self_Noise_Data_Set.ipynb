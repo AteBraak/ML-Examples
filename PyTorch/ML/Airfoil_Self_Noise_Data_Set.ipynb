{
  "nbformat": 4,
  "nbformat_minor": 0,
  "metadata": {
    "colab": {
      "name": "Airfoil Self-Noise Data Set.ipynb",
      "provenance": [],
      "authorship_tag": "ABX9TyNt/we7U4S2LWrEDvL3XZPQ",
      "include_colab_link": true
    },
    "kernelspec": {
      "name": "python3",
      "display_name": "Python 3"
    },
    "language_info": {
      "name": "python"
    },
    "accelerator": "GPU"
  },
  "cells": [
    {
      "cell_type": "markdown",
      "metadata": {
        "id": "view-in-github",
        "colab_type": "text"
      },
      "source": [
        "<a href=\"https://colab.research.google.com/github/AteBraak/ML-Examples/blob/main/PyTorch/ML/Airfoil_Self_Noise_Data_Set.ipynb\" target=\"_parent\"><img src=\"https://colab.research.google.com/assets/colab-badge.svg\" alt=\"Open In Colab\"/></a>"
      ]
    },
    {
      "cell_type": "markdown",
      "metadata": {
        "id": "ZE1lH9sWBVXr"
      },
      "source": [
        "The NASA data set comprises different size NACA 0012 airfoils at various wind tunnel speeds and angles of attack. The span of the airfoil and the observer position were the same in all of the experiments.\n",
        "https://archive.ics.uci.edu/ml/datasets/Airfoil+Self-Noise#"
      ]
    },
    {
      "cell_type": "code",
      "metadata": {
        "id": "8H5Ys-oXBKVF"
      },
      "source": [
        "import os\n",
        "import numpy as np\n",
        "import pandas as pd\n",
        "import torch\n",
        "import torch.nn as nn\n",
        "import torch.nn.functional as F\n",
        "import torch.optim as optim\n",
        "from torch.utils.data import TensorDataset"
      ],
      "execution_count": 1,
      "outputs": []
    },
    {
      "cell_type": "code",
      "metadata": {
        "colab": {
          "base_uri": "https://localhost:8080/"
        },
        "id": "5ygkcjpuHUuq",
        "outputId": "f28d5c14-8f75-43bf-a71c-217641ba216a"
      },
      "source": [
        "use_gpu = torch.cuda.is_available()\n",
        "device = torch.device(\"cuda:0\" if use_gpu else \"cpu\")\n",
        "\n",
        "print(\"Torch version: \", torch.__version__)\n",
        "print(\"GPU Available: {}\".format(use_gpu))"
      ],
      "execution_count": 2,
      "outputs": [
        {
          "output_type": "stream",
          "text": [
            "Torch version:  1.8.1+cu101\n",
            "GPU Available: True\n"
          ],
          "name": "stdout"
        }
      ]
    },
    {
      "cell_type": "code",
      "metadata": {
        "id": "ZTXfZ6t4GigZ"
      },
      "source": [
        "import random\n",
        "\n",
        "manualSeed = 1234\n",
        "use_gpu = torch.cuda.is_available()\n",
        "\n",
        "# Fixing random seed\n",
        "random.seed(manualSeed)\n",
        "np.random.seed(manualSeed)\n",
        "torch.manual_seed(manualSeed)\n",
        "if use_gpu:\n",
        "   torch.cuda.manual_seed_all(manualSeed)"
      ],
      "execution_count": 3,
      "outputs": []
    },
    {
      "cell_type": "code",
      "metadata": {
        "colab": {
          "base_uri": "https://localhost:8080/"
        },
        "id": "-ABowUspBo5D",
        "outputId": "e3182c59-0396-4b59-b30c-910921fd990d"
      },
      "source": [
        "if os.path.isfile('/content/airfoil_self_noise.dat'):\n",
        "  print(\"Download already exists in Colab\")\n",
        "else:\n",
        "  !wget https://archive.ics.uci.edu/ml/machine-learning-databases/00291/airfoil_self_noise.dat"
      ],
      "execution_count": 4,
      "outputs": [
        {
          "output_type": "stream",
          "text": [
            "--2021-05-07 17:33:26--  https://archive.ics.uci.edu/ml/machine-learning-databases/00291/airfoil_self_noise.dat\n",
            "Resolving archive.ics.uci.edu (archive.ics.uci.edu)... 128.195.10.252\n",
            "Connecting to archive.ics.uci.edu (archive.ics.uci.edu)|128.195.10.252|:443... connected.\n",
            "HTTP request sent, awaiting response... 200 OK\n",
            "Length: 59984 (59K) [application/x-httpd-php]\n",
            "Saving to: ‘airfoil_self_noise.dat’\n",
            "\n",
            "airfoil_self_noise. 100%[===================>]  58.58K  --.-KB/s    in 0.1s    \n",
            "\n",
            "2021-05-07 17:33:27 (425 KB/s) - ‘airfoil_self_noise.dat’ saved [59984/59984]\n",
            "\n"
          ],
          "name": "stdout"
        }
      ]
    },
    {
      "cell_type": "code",
      "metadata": {
        "id": "MgSsnlEjBEDC"
      },
      "source": [
        "# Extracting data from the csv file\n",
        "airfoil_data = pd.read_csv(\"/content/airfoil_self_noise.dat\", sep=\"\\t\", header=0, names=[\"Frequency\", \"Angle of attack\",\t\"Chord length\",\t\"Free-stream velocity\",\t\"Displacement thickness\",\t\"Scaled sound pressure level\"])"
      ],
      "execution_count": 5,
      "outputs": []
    },
    {
      "cell_type": "code",
      "metadata": {
        "colab": {
          "base_uri": "https://localhost:8080/",
          "height": 204
        },
        "id": "J2L7OTbGC9wC",
        "outputId": "19fa988c-9293-4aa5-b122-2601336391f1"
      },
      "source": [
        "airfoil_data.head()"
      ],
      "execution_count": 6,
      "outputs": [
        {
          "output_type": "execute_result",
          "data": {
            "text/html": [
              "<div>\n",
              "<style scoped>\n",
              "    .dataframe tbody tr th:only-of-type {\n",
              "        vertical-align: middle;\n",
              "    }\n",
              "\n",
              "    .dataframe tbody tr th {\n",
              "        vertical-align: top;\n",
              "    }\n",
              "\n",
              "    .dataframe thead th {\n",
              "        text-align: right;\n",
              "    }\n",
              "</style>\n",
              "<table border=\"1\" class=\"dataframe\">\n",
              "  <thead>\n",
              "    <tr style=\"text-align: right;\">\n",
              "      <th></th>\n",
              "      <th>Frequency</th>\n",
              "      <th>Angle of attack</th>\n",
              "      <th>Chord length</th>\n",
              "      <th>Free-stream velocity</th>\n",
              "      <th>Displacement thickness</th>\n",
              "      <th>Scaled sound pressure level</th>\n",
              "    </tr>\n",
              "  </thead>\n",
              "  <tbody>\n",
              "    <tr>\n",
              "      <th>0</th>\n",
              "      <td>1000</td>\n",
              "      <td>0.0</td>\n",
              "      <td>0.3048</td>\n",
              "      <td>71.3</td>\n",
              "      <td>0.002663</td>\n",
              "      <td>125.201</td>\n",
              "    </tr>\n",
              "    <tr>\n",
              "      <th>1</th>\n",
              "      <td>1250</td>\n",
              "      <td>0.0</td>\n",
              "      <td>0.3048</td>\n",
              "      <td>71.3</td>\n",
              "      <td>0.002663</td>\n",
              "      <td>125.951</td>\n",
              "    </tr>\n",
              "    <tr>\n",
              "      <th>2</th>\n",
              "      <td>1600</td>\n",
              "      <td>0.0</td>\n",
              "      <td>0.3048</td>\n",
              "      <td>71.3</td>\n",
              "      <td>0.002663</td>\n",
              "      <td>127.591</td>\n",
              "    </tr>\n",
              "    <tr>\n",
              "      <th>3</th>\n",
              "      <td>2000</td>\n",
              "      <td>0.0</td>\n",
              "      <td>0.3048</td>\n",
              "      <td>71.3</td>\n",
              "      <td>0.002663</td>\n",
              "      <td>127.461</td>\n",
              "    </tr>\n",
              "    <tr>\n",
              "      <th>4</th>\n",
              "      <td>2500</td>\n",
              "      <td>0.0</td>\n",
              "      <td>0.3048</td>\n",
              "      <td>71.3</td>\n",
              "      <td>0.002663</td>\n",
              "      <td>125.571</td>\n",
              "    </tr>\n",
              "  </tbody>\n",
              "</table>\n",
              "</div>"
            ],
            "text/plain": [
              "   Frequency  ...  Scaled sound pressure level\n",
              "0       1000  ...                      125.201\n",
              "1       1250  ...                      125.951\n",
              "2       1600  ...                      127.591\n",
              "3       2000  ...                      127.461\n",
              "4       2500  ...                      125.571\n",
              "\n",
              "[5 rows x 6 columns]"
            ]
          },
          "metadata": {
            "tags": []
          },
          "execution_count": 6
        }
      ]
    },
    {
      "cell_type": "code",
      "metadata": {
        "colab": {
          "base_uri": "https://localhost:8080/"
        },
        "id": "ta6Llom0Fs5y",
        "outputId": "601f5ca6-3cd7-433a-8541-f212faf332f9"
      },
      "source": [
        "print(f'There are {len(airfoil_data)} examples in the dataset.')"
      ],
      "execution_count": 7,
      "outputs": [
        {
          "output_type": "stream",
          "text": [
            "There are 1502 examples in the dataset.\n"
          ],
          "name": "stdout"
        }
      ]
    },
    {
      "cell_type": "code",
      "metadata": {
        "colab": {
          "base_uri": "https://localhost:8080/",
          "height": 235
        },
        "id": "UnYRQ-6YCtz6",
        "outputId": "5f7237e7-8ca6-4c1d-df72-26d206cd6036"
      },
      "source": [
        "airfoil_data.describe().T"
      ],
      "execution_count": 30,
      "outputs": [
        {
          "output_type": "execute_result",
          "data": {
            "text/html": [
              "<div>\n",
              "<style scoped>\n",
              "    .dataframe tbody tr th:only-of-type {\n",
              "        vertical-align: middle;\n",
              "    }\n",
              "\n",
              "    .dataframe tbody tr th {\n",
              "        vertical-align: top;\n",
              "    }\n",
              "\n",
              "    .dataframe thead th {\n",
              "        text-align: right;\n",
              "    }\n",
              "</style>\n",
              "<table border=\"1\" class=\"dataframe\">\n",
              "  <thead>\n",
              "    <tr style=\"text-align: right;\">\n",
              "      <th></th>\n",
              "      <th>count</th>\n",
              "      <th>mean</th>\n",
              "      <th>std</th>\n",
              "      <th>min</th>\n",
              "      <th>25%</th>\n",
              "      <th>50%</th>\n",
              "      <th>75%</th>\n",
              "      <th>max</th>\n",
              "    </tr>\n",
              "  </thead>\n",
              "  <tbody>\n",
              "    <tr>\n",
              "      <th>Frequency</th>\n",
              "      <td>1502.0</td>\n",
              "      <td>2887.769640</td>\n",
              "      <td>3153.162983</td>\n",
              "      <td>200.000000</td>\n",
              "      <td>800.000000</td>\n",
              "      <td>1600.000000</td>\n",
              "      <td>4000.00000</td>\n",
              "      <td>20000.000000</td>\n",
              "    </tr>\n",
              "    <tr>\n",
              "      <th>Angle of attack</th>\n",
              "      <td>1502.0</td>\n",
              "      <td>6.786818</td>\n",
              "      <td>5.917509</td>\n",
              "      <td>0.000000</td>\n",
              "      <td>2.000000</td>\n",
              "      <td>5.400000</td>\n",
              "      <td>9.90000</td>\n",
              "      <td>22.200000</td>\n",
              "    </tr>\n",
              "    <tr>\n",
              "      <th>Chord length</th>\n",
              "      <td>1502.0</td>\n",
              "      <td>0.136436</td>\n",
              "      <td>0.093471</td>\n",
              "      <td>0.025400</td>\n",
              "      <td>0.050800</td>\n",
              "      <td>0.101600</td>\n",
              "      <td>0.22860</td>\n",
              "      <td>0.304800</td>\n",
              "    </tr>\n",
              "    <tr>\n",
              "      <th>Free-stream velocity</th>\n",
              "      <td>1502.0</td>\n",
              "      <td>50.847137</td>\n",
              "      <td>15.569029</td>\n",
              "      <td>31.700000</td>\n",
              "      <td>39.600000</td>\n",
              "      <td>39.600000</td>\n",
              "      <td>71.30000</td>\n",
              "      <td>71.300000</td>\n",
              "    </tr>\n",
              "    <tr>\n",
              "      <th>Displacement thickness</th>\n",
              "      <td>1502.0</td>\n",
              "      <td>0.011146</td>\n",
              "      <td>0.013153</td>\n",
              "      <td>0.000401</td>\n",
              "      <td>0.002535</td>\n",
              "      <td>0.004957</td>\n",
              "      <td>0.01584</td>\n",
              "      <td>0.058411</td>\n",
              "    </tr>\n",
              "    <tr>\n",
              "      <th>Scaled sound pressure level</th>\n",
              "      <td>1502.0</td>\n",
              "      <td>124.835034</td>\n",
              "      <td>6.900864</td>\n",
              "      <td>103.380000</td>\n",
              "      <td>120.190000</td>\n",
              "      <td>125.719000</td>\n",
              "      <td>129.99775</td>\n",
              "      <td>140.987000</td>\n",
              "    </tr>\n",
              "  </tbody>\n",
              "</table>\n",
              "</div>"
            ],
            "text/plain": [
              "                              count         mean  ...         75%           max\n",
              "Frequency                    1502.0  2887.769640  ...  4000.00000  20000.000000\n",
              "Angle of attack              1502.0     6.786818  ...     9.90000     22.200000\n",
              "Chord length                 1502.0     0.136436  ...     0.22860      0.304800\n",
              "Free-stream velocity         1502.0    50.847137  ...    71.30000     71.300000\n",
              "Displacement thickness       1502.0     0.011146  ...     0.01584      0.058411\n",
              "Scaled sound pressure level  1502.0   124.835034  ...   129.99775    140.987000\n",
              "\n",
              "[6 rows x 8 columns]"
            ]
          },
          "metadata": {
            "tags": []
          },
          "execution_count": 30
        }
      ]
    },
    {
      "cell_type": "code",
      "metadata": {
        "colab": {
          "base_uri": "https://localhost:8080/",
          "height": 235
        },
        "id": "7O6KspR-G9L4",
        "outputId": "37d286fe-2dff-4d16-9f1c-a540e199222a"
      },
      "source": [
        "airfoil_data.corr()"
      ],
      "execution_count": 31,
      "outputs": [
        {
          "output_type": "execute_result",
          "data": {
            "text/html": [
              "<div>\n",
              "<style scoped>\n",
              "    .dataframe tbody tr th:only-of-type {\n",
              "        vertical-align: middle;\n",
              "    }\n",
              "\n",
              "    .dataframe tbody tr th {\n",
              "        vertical-align: top;\n",
              "    }\n",
              "\n",
              "    .dataframe thead th {\n",
              "        text-align: right;\n",
              "    }\n",
              "</style>\n",
              "<table border=\"1\" class=\"dataframe\">\n",
              "  <thead>\n",
              "    <tr style=\"text-align: right;\">\n",
              "      <th></th>\n",
              "      <th>Frequency</th>\n",
              "      <th>Angle of attack</th>\n",
              "      <th>Chord length</th>\n",
              "      <th>Free-stream velocity</th>\n",
              "      <th>Displacement thickness</th>\n",
              "      <th>Scaled sound pressure level</th>\n",
              "    </tr>\n",
              "  </thead>\n",
              "  <tbody>\n",
              "    <tr>\n",
              "      <th>Frequency</th>\n",
              "      <td>1.000000</td>\n",
              "      <td>-0.273429</td>\n",
              "      <td>-0.002871</td>\n",
              "      <td>0.134339</td>\n",
              "      <td>-0.230457</td>\n",
              "      <td>-0.390686</td>\n",
              "    </tr>\n",
              "    <tr>\n",
              "      <th>Angle of attack</th>\n",
              "      <td>-0.273429</td>\n",
              "      <td>1.000000</td>\n",
              "      <td>-0.504259</td>\n",
              "      <td>0.059822</td>\n",
              "      <td>0.753336</td>\n",
              "      <td>-0.156027</td>\n",
              "    </tr>\n",
              "    <tr>\n",
              "      <th>Chord length</th>\n",
              "      <td>-0.002871</td>\n",
              "      <td>-0.504259</td>\n",
              "      <td>1.000000</td>\n",
              "      <td>0.002217</td>\n",
              "      <td>-0.220338</td>\n",
              "      <td>-0.236657</td>\n",
              "    </tr>\n",
              "    <tr>\n",
              "      <th>Free-stream velocity</th>\n",
              "      <td>0.134339</td>\n",
              "      <td>0.059822</td>\n",
              "      <td>0.002217</td>\n",
              "      <td>1.000000</td>\n",
              "      <td>-0.003413</td>\n",
              "      <td>0.125003</td>\n",
              "    </tr>\n",
              "    <tr>\n",
              "      <th>Displacement thickness</th>\n",
              "      <td>-0.230457</td>\n",
              "      <td>0.753336</td>\n",
              "      <td>-0.220338</td>\n",
              "      <td>-0.003413</td>\n",
              "      <td>1.000000</td>\n",
              "      <td>-0.312632</td>\n",
              "    </tr>\n",
              "    <tr>\n",
              "      <th>Scaled sound pressure level</th>\n",
              "      <td>-0.390686</td>\n",
              "      <td>-0.156027</td>\n",
              "      <td>-0.236657</td>\n",
              "      <td>0.125003</td>\n",
              "      <td>-0.312632</td>\n",
              "      <td>1.000000</td>\n",
              "    </tr>\n",
              "  </tbody>\n",
              "</table>\n",
              "</div>"
            ],
            "text/plain": [
              "                             Frequency  ...  Scaled sound pressure level\n",
              "Frequency                     1.000000  ...                    -0.390686\n",
              "Angle of attack              -0.273429  ...                    -0.156027\n",
              "Chord length                 -0.002871  ...                    -0.236657\n",
              "Free-stream velocity          0.134339  ...                     0.125003\n",
              "Displacement thickness       -0.230457  ...                    -0.312632\n",
              "Scaled sound pressure level  -0.390686  ...                     1.000000\n",
              "\n",
              "[6 rows x 6 columns]"
            ]
          },
          "metadata": {
            "tags": []
          },
          "execution_count": 31
        }
      ]
    },
    {
      "cell_type": "code",
      "metadata": {
        "colab": {
          "base_uri": "https://localhost:8080/"
        },
        "id": "GFHEHBH1HAy4",
        "outputId": "783e1170-4bc1-4cdc-fe7c-4b8423c97b6b"
      },
      "source": [
        "airfoil_data.isnull().sum()"
      ],
      "execution_count": 32,
      "outputs": [
        {
          "output_type": "execute_result",
          "data": {
            "text/plain": [
              "Frequency                      0\n",
              "Angle of attack                0\n",
              "Chord length                   0\n",
              "Free-stream velocity           0\n",
              "Displacement thickness         0\n",
              "Scaled sound pressure level    0\n",
              "dtype: int64"
            ]
          },
          "metadata": {
            "tags": []
          },
          "execution_count": 32
        }
      ]
    },
    {
      "cell_type": "code",
      "metadata": {
        "id": "Gl2Q-g0CF5FJ"
      },
      "source": [
        "train, validate, test = np.split(\n",
        "    airfoil_data.sample(frac=1, random_state=manualSeed), \n",
        "    [int(.6*len(airfoil_data)), int(.8*len(airfoil_data))])\n",
        "\n",
        "# Remove the label column from X and create a label vectors.\n",
        "X_train = train.drop(['Scaled sound pressure level'], axis=1).to_numpy()\n",
        "y_train = train['Scaled sound pressure level'].to_numpy()\n",
        "\n",
        "X_val = validate.drop(['Scaled sound pressure level'], axis=1).to_numpy()\n",
        "y_val = validate['Scaled sound pressure level'].to_numpy()\n",
        "\n",
        "X_test = test.drop(['Scaled sound pressure level'], axis=1).to_numpy()\n",
        "y_test = test['Scaled sound pressure level'].to_numpy()"
      ],
      "execution_count": 8,
      "outputs": []
    },
    {
      "cell_type": "code",
      "metadata": {
        "id": "BgmGQCmmGweJ"
      },
      "source": [
        "train_dataset = TensorDataset(torch.from_numpy(X_train).float(), torch.from_numpy(y_train).float())\n",
        "val_dataset = TensorDataset(torch.from_numpy(X_val).float(), torch.from_numpy(y_val).float())\n",
        "test_dataset = TensorDataset(torch.from_numpy(X_test).float(), torch.from_numpy(y_test).float())"
      ],
      "execution_count": 9,
      "outputs": []
    },
    {
      "cell_type": "code",
      "metadata": {
        "id": "Al7sAKPKHrxx"
      },
      "source": [
        "train_batch_size = 32  # number of data in a training batch.\n",
        "eval_batch_size = 32   # number of data in an batch.\n",
        "\n",
        "#to do transforms?\n",
        "\n",
        "train_loader = torch.utils.data.DataLoader(train_dataset, batch_size=train_batch_size, shuffle=True)\n",
        "val_loader   = torch.utils.data.DataLoader(val_dataset, batch_size=eval_batch_size, shuffle=False)\n",
        "test_loader  = torch.utils.data.DataLoader(test_dataset, batch_size=eval_batch_size, shuffle=False)"
      ],
      "execution_count": 10,
      "outputs": []
    },
    {
      "cell_type": "code",
      "metadata": {
        "id": "LywOFPNAHpop"
      },
      "source": [
        "from sklearn.linear_model import LinearRegression\n",
        "from sklearn.metrics import mean_absolute_error"
      ],
      "execution_count": 34,
      "outputs": []
    },
    {
      "cell_type": "code",
      "metadata": {
        "id": "TNPjj6VWHeKR"
      },
      "source": [
        "# Linear model object instantiation\n",
        "lr = LinearRegression().fit(X_train, y_train)\n",
        "\n",
        "predictions = lr.predict(X_test)"
      ],
      "execution_count": 35,
      "outputs": []
    },
    {
      "cell_type": "code",
      "metadata": {
        "colab": {
          "base_uri": "https://localhost:8080/"
        },
        "id": "e5OT7BUsHx0Z",
        "outputId": "58b9367a-9e95-4f28-d946-e23e988920c9"
      },
      "source": [
        "mae = mean_absolute_error(predictions, y_test)\n",
        "\n",
        "print(\"Mean Absolute Error :\", round(mae, 2))"
      ],
      "execution_count": 36,
      "outputs": [
        {
          "output_type": "stream",
          "text": [
            "Mean Absolute Error : 3.73\n"
          ],
          "name": "stdout"
        }
      ]
    },
    {
      "cell_type": "code",
      "metadata": {
        "colab": {
          "base_uri": "https://localhost:8080/",
          "height": 204
        },
        "id": "eoF4WNteH2kC",
        "outputId": "edc9ad1b-d49a-4805-cb5e-42726f06b24f"
      },
      "source": [
        "pred_series = pd.Series(predictions, name=\"Predicted\")\n",
        "\n",
        "submission = pd.concat([airfoil_data, pred_series], axis=1)\n",
        "\n",
        "submission.head()"
      ],
      "execution_count": 37,
      "outputs": [
        {
          "output_type": "execute_result",
          "data": {
            "text/html": [
              "<div>\n",
              "<style scoped>\n",
              "    .dataframe tbody tr th:only-of-type {\n",
              "        vertical-align: middle;\n",
              "    }\n",
              "\n",
              "    .dataframe tbody tr th {\n",
              "        vertical-align: top;\n",
              "    }\n",
              "\n",
              "    .dataframe thead th {\n",
              "        text-align: right;\n",
              "    }\n",
              "</style>\n",
              "<table border=\"1\" class=\"dataframe\">\n",
              "  <thead>\n",
              "    <tr style=\"text-align: right;\">\n",
              "      <th></th>\n",
              "      <th>Frequency</th>\n",
              "      <th>Angle of attack</th>\n",
              "      <th>Chord length</th>\n",
              "      <th>Free-stream velocity</th>\n",
              "      <th>Displacement thickness</th>\n",
              "      <th>Scaled sound pressure level</th>\n",
              "      <th>Predicted</th>\n",
              "    </tr>\n",
              "  </thead>\n",
              "  <tbody>\n",
              "    <tr>\n",
              "      <th>0</th>\n",
              "      <td>1000</td>\n",
              "      <td>0.0</td>\n",
              "      <td>0.3048</td>\n",
              "      <td>71.3</td>\n",
              "      <td>0.002663</td>\n",
              "      <td>125.201</td>\n",
              "      <td>124.958845</td>\n",
              "    </tr>\n",
              "    <tr>\n",
              "      <th>1</th>\n",
              "      <td>1250</td>\n",
              "      <td>0.0</td>\n",
              "      <td>0.3048</td>\n",
              "      <td>71.3</td>\n",
              "      <td>0.002663</td>\n",
              "      <td>125.951</td>\n",
              "      <td>117.908168</td>\n",
              "    </tr>\n",
              "    <tr>\n",
              "      <th>2</th>\n",
              "      <td>1600</td>\n",
              "      <td>0.0</td>\n",
              "      <td>0.3048</td>\n",
              "      <td>71.3</td>\n",
              "      <td>0.002663</td>\n",
              "      <td>127.591</td>\n",
              "      <td>127.480860</td>\n",
              "    </tr>\n",
              "    <tr>\n",
              "      <th>3</th>\n",
              "      <td>2000</td>\n",
              "      <td>0.0</td>\n",
              "      <td>0.3048</td>\n",
              "      <td>71.3</td>\n",
              "      <td>0.002663</td>\n",
              "      <td>127.461</td>\n",
              "      <td>130.327375</td>\n",
              "    </tr>\n",
              "    <tr>\n",
              "      <th>4</th>\n",
              "      <td>2500</td>\n",
              "      <td>0.0</td>\n",
              "      <td>0.3048</td>\n",
              "      <td>71.3</td>\n",
              "      <td>0.002663</td>\n",
              "      <td>125.571</td>\n",
              "      <td>126.266560</td>\n",
              "    </tr>\n",
              "  </tbody>\n",
              "</table>\n",
              "</div>"
            ],
            "text/plain": [
              "   Frequency  Angle of attack  ...  Scaled sound pressure level   Predicted\n",
              "0       1000              0.0  ...                      125.201  124.958845\n",
              "1       1250              0.0  ...                      125.951  117.908168\n",
              "2       1600              0.0  ...                      127.591  127.480860\n",
              "3       2000              0.0  ...                      127.461  130.327375\n",
              "4       2500              0.0  ...                      125.571  126.266560\n",
              "\n",
              "[5 rows x 7 columns]"
            ]
          },
          "metadata": {
            "tags": []
          },
          "execution_count": 37
        }
      ]
    },
    {
      "cell_type": "code",
      "metadata": {
        "colab": {
          "base_uri": "https://localhost:8080/"
        },
        "id": "0rLVXSFOaOOT",
        "outputId": "ae99466b-8cea-4a53-df34-636eead2e739"
      },
      "source": [
        "train_loader.__len__()\n",
        "for xb,yb in train_loader:\n",
        "  print(xb.shape)\n",
        "  print(yb.shape)\n",
        "  break  "
      ],
      "execution_count": 11,
      "outputs": [
        {
          "output_type": "stream",
          "text": [
            "torch.Size([32, 5])\n",
            "torch.Size([32])\n"
          ],
          "name": "stdout"
        }
      ]
    },
    {
      "cell_type": "code",
      "metadata": {
        "colab": {
          "base_uri": "https://localhost:8080/"
        },
        "id": "G4gxmj3Rd_Pr",
        "outputId": "c73e292d-a4f6-42a8-cd2a-d4243ddda804"
      },
      "source": [
        "next(iter(train_loader))"
      ],
      "execution_count": 12,
      "outputs": [
        {
          "output_type": "execute_result",
          "data": {
            "text/plain": [
              "[tensor([[4.0000e+03, 0.0000e+00, 2.2860e-01, 3.9600e+01, 2.5351e-03],\n",
              "         [3.1500e+02, 3.0000e+00, 3.0480e-01, 3.9600e+01, 4.9574e-03],\n",
              "         [2.5000e+03, 8.9000e+00, 1.0160e-01, 3.9600e+01, 1.2460e-02],\n",
              "         [2.5000e+02, 1.7400e+01, 2.5400e-02, 3.1700e+01, 1.7663e-02],\n",
              "         [3.1500e+03, 9.9000e+00, 1.5240e-01, 3.9600e+01, 2.3333e-02],\n",
              "         [2.0000e+03, 1.1200e+01, 5.0800e-02, 7.1300e+01, 1.4072e-02],\n",
              "         [2.0000e+02, 9.9000e+00, 1.5240e-01, 3.9600e+01, 2.3333e-02],\n",
              "         [4.0000e+03, 0.0000e+00, 3.0480e-01, 3.1700e+01, 3.3127e-03],\n",
              "         [2.5000e+03, 7.3000e+00, 2.2860e-01, 7.1300e+01, 1.0440e-02],\n",
              "         [4.0000e+02, 5.3000e+00, 2.2860e-01, 3.9600e+01, 6.1433e-03],\n",
              "         [6.3000e+03, 0.0000e+00, 2.2860e-01, 7.1300e+01, 2.1435e-03],\n",
              "         [2.5000e+03, 9.5000e+00, 2.5400e-02, 5.5500e+01, 4.3284e-03],\n",
              "         [5.0000e+03, 0.0000e+00, 1.0160e-01, 7.1300e+01, 1.2107e-03],\n",
              "         [2.5000e+02, 0.0000e+00, 3.0480e-01, 3.9600e+01, 3.1014e-03],\n",
              "         [5.0000e+02, 6.7000e+00, 1.0160e-01, 3.1700e+01, 5.9293e-03],\n",
              "         [1.6000e+03, 2.0000e+00, 2.2860e-01, 7.1300e+01, 2.9303e-03],\n",
              "         [4.0000e+03, 2.0000e+00, 2.2860e-01, 5.5500e+01, 3.1352e-03],\n",
              "         [4.0000e+02, 0.0000e+00, 2.2860e-01, 5.5500e+01, 2.2934e-03],\n",
              "         [8.0000e+02, 6.7000e+00, 1.0160e-01, 5.5500e+01, 5.2139e-03],\n",
              "         [3.1500e+03, 1.2300e+01, 1.0160e-01, 5.5500e+01, 3.6823e-02],\n",
              "         [6.3000e+03, 9.5000e+00, 2.5400e-02, 7.1300e+01, 4.2065e-03],\n",
              "         [2.0000e+03, 6.7000e+00, 1.0160e-01, 3.9600e+01, 5.7808e-03],\n",
              "         [8.0000e+02, 2.0000e+00, 2.2860e-01, 7.1300e+01, 2.9303e-03],\n",
              "         [4.0000e+02, 4.0000e+00, 2.2860e-01, 3.9600e+01, 4.7380e-03],\n",
              "         [3.1500e+02, 4.0000e+00, 2.2860e-01, 3.9600e+01, 4.7380e-03],\n",
              "         [4.0000e+03, 1.2300e+01, 1.0160e-01, 5.5500e+01, 3.6823e-02],\n",
              "         [1.6000e+03, 0.0000e+00, 2.2860e-01, 3.9600e+01, 2.5351e-03],\n",
              "         [1.2500e+03, 1.5600e+01, 1.0160e-01, 7.1300e+01, 4.3726e-02],\n",
              "         [4.0000e+03, 0.0000e+00, 5.0800e-02, 7.1300e+01, 7.4048e-04],\n",
              "         [1.6000e+03, 2.7000e+00, 1.5240e-01, 3.9600e+01, 2.9480e-03],\n",
              "         [2.0000e+02, 9.5000e+00, 2.5400e-02, 3.1700e+01, 4.6138e-03],\n",
              "         [3.1500e+03, 0.0000e+00, 1.5240e-01, 3.9600e+01, 1.9329e-03]]),\n",
              " tensor([123.4650, 123.3120, 119.1900, 116.9560, 113.5250, 133.3110, 127.3150,\n",
              "         118.1450, 122.0880, 131.2210, 122.0440, 134.1520, 130.7950, 119.3190,\n",
              "         130.2060, 127.7960, 122.2320, 121.6600, 135.9530, 116.9140, 127.2460,\n",
              "         122.2350, 128.2160, 123.8790, 122.2290, 114.4040, 127.0950, 123.1780,\n",
              "         134.4300, 130.0490, 119.1460, 125.6030])]"
            ]
          },
          "metadata": {
            "tags": []
          },
          "execution_count": 12
        }
      ]
    },
    {
      "cell_type": "code",
      "metadata": {
        "id": "y85mQMOnUJuu"
      },
      "source": [
        "N_input_features = X_train.shape[1]"
      ],
      "execution_count": 13,
      "outputs": []
    },
    {
      "cell_type": "code",
      "metadata": {
        "id": "nN5IPcIMUlss"
      },
      "source": [
        "N_output_features = 1"
      ],
      "execution_count": 14,
      "outputs": []
    },
    {
      "cell_type": "code",
      "metadata": {
        "id": "y2fLSsqhjOte"
      },
      "source": [
        "class LinearRegressionModel(torch.nn.Module):\n",
        "  \n",
        "    def __init__(self, N_input_features, N_output_features):\n",
        "        super(LinearRegressionModel, self).__init__()\n",
        "        self.linear = torch.nn.Linear(N_input_features, N_output_features)  # One in and one out\n",
        "  \n",
        "    def forward(self, x):\n",
        "        y_pred = self.linear(x)\n",
        "        return y_pred"
      ],
      "execution_count": 15,
      "outputs": []
    },
    {
      "cell_type": "code",
      "metadata": {
        "colab": {
          "base_uri": "https://localhost:8080/"
        },
        "id": "T39EEtAEHl6Y",
        "outputId": "78229aca-b257-43e5-e839-7f8a1dd4ff5d"
      },
      "source": [
        "# Define model\n",
        "model = LinearRegressionModel(N_input_features, N_output_features) # nn.Linear(in_features,out_features)\n",
        "# printing the model Parameters\n",
        "print(list(model.parameters()))\n",
        "\n",
        "#Define the loss function\n",
        "criterion = torch.nn.MSELoss(size_average = False)\n",
        "\n",
        "# Define SGD optimizer with learning rate 1e-5\n",
        "optimizer = torch.optim.SGD(model.parameters(), lr=1e-5)"
      ],
      "execution_count": 16,
      "outputs": [
        {
          "output_type": "stream",
          "text": [
            "[Parameter containing:\n",
            "tensor([[-0.0266,  0.2298,  0.3209,  0.0956, -0.0330]], requires_grad=True), Parameter containing:\n",
            "tensor([-0.3561], requires_grad=True)]\n"
          ],
          "name": "stdout"
        },
        {
          "output_type": "stream",
          "text": [
            "/usr/local/lib/python3.7/dist-packages/torch/nn/_reduction.py:42: UserWarning: size_average and reduce args will be deprecated, please use reduction='sum' instead.\n",
            "  warnings.warn(warning.format(ret))\n"
          ],
          "name": "stderr"
        }
      ]
    },
    {
      "cell_type": "code",
      "metadata": {
        "id": "6_GgN8omgydp"
      },
      "source": [
        "def train(epoch, model, train_loader, loss_function, optimizer, device):\n",
        "    \n",
        "    # activate the training mode\n",
        "    model.train()\n",
        "    \n",
        "    torch.set_grad_enabled(True)\n",
        "    \n",
        "    total_loss = 0\n",
        "    \n",
        "    # iteration over the mini-batches\n",
        "    for batch_idx, (data, target) in enumerate(train_loader):\n",
        "        \n",
        "        # transfer the data on the chosen device\n",
        "        data, target = data.to(device), target.to(device)\n",
        "        \n",
        "        # reinitialize the gradients to zero\n",
        "        optimizer.zero_grad()\n",
        "        \n",
        "        # forward propagation on the data\n",
        "        prediction = model(data)\n",
        "        \n",
        "        # compute the loss function w.r.t. the targets\n",
        "        loss = loss_function(prediction, target)\n",
        "        \n",
        "        # execute the backpropagation\n",
        "        loss.backward()\n",
        "        \n",
        "        # execute an optimization step\n",
        "        optimizer.step()\n",
        "        \n",
        "        # accumulate the loss\n",
        "        total_loss += loss.item()*len(data)\n",
        "        \n",
        "    # compute the average loss per epoch\n",
        "    mean_loss = total_loss/len(train_loader.dataset)\n",
        "        \n",
        "    print('Train Epoch: {}   Avg_Loss: {:.5f}/{}'.format(\n",
        "        epoch, mean_loss, len(train_loader.dataset)))   \n",
        "    \n",
        "    # return the average loss\n",
        "    return mean_loss"
      ],
      "execution_count": 23,
      "outputs": []
    },
    {
      "cell_type": "code",
      "metadata": {
        "id": "tAdTNGrshx1K"
      },
      "source": [
        "def evaluate(model, eval_loader, loss_function, device):\n",
        "    \n",
        "    # activate the evaluation mode\n",
        "    model.eval()\n",
        "    \n",
        "    total_loss = 0\n",
        "    \n",
        "    with torch.no_grad():\n",
        "    \n",
        "        # iterate over the batches\n",
        "        for batch_idx, (data, target) in enumerate(eval_loader):\n",
        "\n",
        "            # transfer the data on the chosen device\n",
        "            data, target = data.to(device), target.to(device)\n",
        "\n",
        "            # forward propagation on the data\n",
        "            prediction = model(data)\n",
        "\n",
        "            # compute the loss function w.r.t. the targets\n",
        "            loss = loss_function(prediction, target)           \n",
        "\n",
        "\n",
        "            # accumulate the loss\n",
        "            total_loss += loss.item()*len(data)        \n",
        "          \n",
        "    # compute the average loss per epoch\n",
        "    mean_loss = total_loss/len(eval_loader.dataset)\n",
        "        \n",
        "    print('Eval:  Avg_Loss: {:.5f}/{}'.format(\n",
        "        mean_loss, len(eval_loader.dataset))) \n",
        "    \n",
        "    # return the average loss and the accuracy\n",
        "    return mean_loss"
      ],
      "execution_count": 28,
      "outputs": []
    },
    {
      "cell_type": "code",
      "metadata": {
        "id": "1A_NzhwIhldx"
      },
      "source": [
        "def save_model(epoch, model, path='./'):\n",
        "    \n",
        "    # creating the file name indexed by the epoch value\n",
        "    filename = path + 'neural_network_{}.pt'.format(epoch)\n",
        "    \n",
        "    # saving the model parameters\n",
        "    torch.save(model.state_dict(), filename)\n",
        "    \n",
        "    return model"
      ],
      "execution_count": 19,
      "outputs": []
    },
    {
      "cell_type": "code",
      "metadata": {
        "id": "nFrg204hhoAo"
      },
      "source": [
        "def load_model(epoch, model, path='./'):\n",
        "    \n",
        "    # creating the file name indexed by the epoch value\n",
        "    filename = path + 'neural_network_{}.pt'.format(epoch)\n",
        "    \n",
        "    # loading the parameters of the saved model\n",
        "    model.load_state_dict(torch.load(filename))\n",
        "    \n",
        "    return model"
      ],
      "execution_count": 20,
      "outputs": []
    },
    {
      "cell_type": "code",
      "metadata": {
        "colab": {
          "base_uri": "https://localhost:8080/"
        },
        "id": "QArHDq91iDcp",
        "outputId": "dd40f38b-67a9-4014-c41c-a6f81d71b8f7"
      },
      "source": [
        "# maximum number of epoch\n",
        "numEpochs = 200\n",
        "\n",
        "# Saving frequency\n",
        "checkpoint_freq = 10\n",
        "\n",
        "# Directory for data backup\n",
        "path = './'\n",
        "\n",
        "# Accumulators of average losses obtained per epoch\n",
        "train_losses = []\n",
        "val_losses = []\n",
        "\n",
        "# Model definition\n",
        "#model = model()\n",
        "\n",
        "# Load the model on the chosen device\n",
        "model = model.to(device)\n",
        "#load_model(numEpochs, neural_net, path)\n",
        "# Optimizer definition\n",
        "optimizer = optim.Adam(model.parameters(), lr=0.00001) \n",
        "# optimizer = optim.SGD(neural_net.parameters(), lr=0.001) \n",
        "\n",
        "\n",
        "# Learning loop\n",
        "for epoch in range(1, numEpochs + 1):\n",
        "    \n",
        "    # train the model with the train dataset\n",
        "    train_loss = train(epoch, model, train_loader, criterion, optimizer, device)   \n",
        "    \n",
        "    # evaluate the model with the validation dataset\n",
        "    val_loss = evaluate(model, val_loader, criterion, device)       \n",
        "    \n",
        "    # Save the losses obtained\n",
        "    train_losses.append(train_loss)    \n",
        "    val_losses.append(val_loss)\n",
        "    \n",
        "    # Checkpoint\n",
        "    if epoch % checkpoint_freq ==0:\n",
        "        save_model(epoch, model, path)\n",
        "\n",
        "# Save the model at the end of the training\n",
        "save_model(numEpochs, model, path)\n",
        "    \n",
        "print(\"\\n\\n\\nOptimization ended.\\n\")    "
      ],
      "execution_count": 50,
      "outputs": [
        {
          "output_type": "stream",
          "text": [
            "/usr/local/lib/python3.7/dist-packages/torch/nn/modules/loss.py:528: UserWarning: Using a target size (torch.Size([32])) that is different to the input size (torch.Size([32, 1])). This will likely lead to incorrect results due to broadcasting. Please ensure they have the same size.\n",
            "  return F.mse_loss(input, target, reduction=self.reduction)\n",
            "/usr/local/lib/python3.7/dist-packages/torch/nn/modules/loss.py:528: UserWarning: Using a target size (torch.Size([5])) that is different to the input size (torch.Size([5, 1])). This will likely lead to incorrect results due to broadcasting. Please ensure they have the same size.\n",
            "  return F.mse_loss(input, target, reduction=self.reduction)\n",
            "/usr/local/lib/python3.7/dist-packages/torch/nn/modules/loss.py:528: UserWarning: Using a target size (torch.Size([12])) that is different to the input size (torch.Size([12, 1])). This will likely lead to incorrect results due to broadcasting. Please ensure they have the same size.\n",
            "  return F.mse_loss(input, target, reduction=self.reduction)\n"
          ],
          "name": "stderr"
        },
        {
          "output_type": "stream",
          "text": [
            "Train Epoch: 1   Avg_Loss: 83761.24781/901\n",
            "Eval:  Avg_Loss: 85690.91310/300\n",
            "Train Epoch: 2   Avg_Loss: 83899.94698/901\n",
            "Eval:  Avg_Loss: 85551.10328/300\n",
            "Train Epoch: 3   Avg_Loss: 84700.44449/901\n",
            "Eval:  Avg_Loss: 85551.66701/300\n",
            "Train Epoch: 4   Avg_Loss: 84045.45328/901\n",
            "Eval:  Avg_Loss: 85534.45141/300\n",
            "Train Epoch: 5   Avg_Loss: 83814.32586/901\n",
            "Eval:  Avg_Loss: 85599.56185/300\n",
            "Train Epoch: 6   Avg_Loss: 83263.76646/901\n",
            "Eval:  Avg_Loss: 85578.06142/300\n",
            "Train Epoch: 7   Avg_Loss: 84297.33386/901\n",
            "Eval:  Avg_Loss: 85555.94625/300\n",
            "Train Epoch: 8   Avg_Loss: 83883.08856/901\n",
            "Eval:  Avg_Loss: 85634.85073/300\n",
            "Train Epoch: 9   Avg_Loss: 84321.47821/901\n",
            "Eval:  Avg_Loss: 85643.12107/300\n",
            "Train Epoch: 10   Avg_Loss: 83904.94998/901\n",
            "Eval:  Avg_Loss: 85494.03766/300\n",
            "Train Epoch: 11   Avg_Loss: 85216.45278/901\n",
            "Eval:  Avg_Loss: 85676.53177/300\n",
            "Train Epoch: 12   Avg_Loss: 84334.53122/901\n",
            "Eval:  Avg_Loss: 85490.33081/300\n",
            "Train Epoch: 13   Avg_Loss: 83529.74371/901\n",
            "Eval:  Avg_Loss: 85620.12919/300\n",
            "Train Epoch: 14   Avg_Loss: 83966.67122/901\n",
            "Eval:  Avg_Loss: 85574.16682/300\n",
            "Train Epoch: 15   Avg_Loss: 84488.84923/901\n",
            "Eval:  Avg_Loss: 85603.68250/300\n",
            "Train Epoch: 16   Avg_Loss: 84513.81645/901\n",
            "Eval:  Avg_Loss: 85538.06802/300\n",
            "Train Epoch: 17   Avg_Loss: 84216.23086/901\n",
            "Eval:  Avg_Loss: 85587.46326/300\n",
            "Train Epoch: 18   Avg_Loss: 83158.99042/901\n",
            "Eval:  Avg_Loss: 85526.61044/300\n",
            "Train Epoch: 19   Avg_Loss: 83589.52110/901\n",
            "Eval:  Avg_Loss: 85498.24579/300\n",
            "Train Epoch: 20   Avg_Loss: 83826.88851/901\n",
            "Eval:  Avg_Loss: 85589.02788/300\n",
            "Train Epoch: 21   Avg_Loss: 84378.74204/901\n",
            "Eval:  Avg_Loss: 85572.69009/300\n",
            "Train Epoch: 22   Avg_Loss: 84230.12913/901\n",
            "Eval:  Avg_Loss: 85555.42126/300\n",
            "Train Epoch: 23   Avg_Loss: 83730.40955/901\n",
            "Eval:  Avg_Loss: 85532.93922/300\n",
            "Train Epoch: 24   Avg_Loss: 83628.63497/901\n",
            "Eval:  Avg_Loss: 85601.79599/300\n",
            "Train Epoch: 25   Avg_Loss: 84675.38776/901\n",
            "Eval:  Avg_Loss: 85519.27898/300\n",
            "Train Epoch: 26   Avg_Loss: 84408.70846/901\n",
            "Eval:  Avg_Loss: 85638.43255/300\n",
            "Train Epoch: 27   Avg_Loss: 83866.99590/901\n",
            "Eval:  Avg_Loss: 85607.49952/300\n",
            "Train Epoch: 28   Avg_Loss: 84248.95991/901\n",
            "Eval:  Avg_Loss: 85562.64622/300\n",
            "Train Epoch: 29   Avg_Loss: 84285.10386/901\n",
            "Eval:  Avg_Loss: 85609.28592/300\n",
            "Train Epoch: 30   Avg_Loss: 83621.65257/901\n",
            "Eval:  Avg_Loss: 85564.56319/300\n",
            "Train Epoch: 31   Avg_Loss: 85001.66192/901\n",
            "Eval:  Avg_Loss: 85508.75322/300\n",
            "Train Epoch: 32   Avg_Loss: 83910.71212/901\n",
            "Eval:  Avg_Loss: 85561.66801/300\n",
            "Train Epoch: 33   Avg_Loss: 83907.36923/901\n",
            "Eval:  Avg_Loss: 85656.32732/300\n",
            "Train Epoch: 34   Avg_Loss: 85291.45786/901\n",
            "Eval:  Avg_Loss: 85653.02105/300\n",
            "Train Epoch: 35   Avg_Loss: 84030.58946/901\n",
            "Eval:  Avg_Loss: 85598.57331/300\n",
            "Train Epoch: 36   Avg_Loss: 83943.97517/901\n",
            "Eval:  Avg_Loss: 85580.63336/300\n",
            "Train Epoch: 37   Avg_Loss: 83439.79942/901\n",
            "Eval:  Avg_Loss: 85518.80531/300\n",
            "Train Epoch: 38   Avg_Loss: 85038.75997/901\n",
            "Eval:  Avg_Loss: 85551.60490/300\n",
            "Train Epoch: 39   Avg_Loss: 84312.16933/901\n",
            "Eval:  Avg_Loss: 85614.73016/300\n",
            "Train Epoch: 40   Avg_Loss: 84317.13787/901\n",
            "Eval:  Avg_Loss: 85570.63562/300\n",
            "Train Epoch: 41   Avg_Loss: 84537.89640/901\n",
            "Eval:  Avg_Loss: 85519.95630/300\n",
            "Train Epoch: 42   Avg_Loss: 83895.92490/901\n",
            "Eval:  Avg_Loss: 85476.00911/300\n",
            "Train Epoch: 43   Avg_Loss: 84200.18067/901\n",
            "Eval:  Avg_Loss: 85572.38625/300\n",
            "Train Epoch: 44   Avg_Loss: 84092.09697/901\n",
            "Eval:  Avg_Loss: 85544.64371/300\n",
            "Train Epoch: 45   Avg_Loss: 85073.33087/901\n",
            "Eval:  Avg_Loss: 85627.84757/300\n",
            "Train Epoch: 46   Avg_Loss: 84051.20655/901\n",
            "Eval:  Avg_Loss: 85472.47974/300\n",
            "Train Epoch: 47   Avg_Loss: 83528.58495/901\n",
            "Eval:  Avg_Loss: 85552.88452/300\n",
            "Train Epoch: 48   Avg_Loss: 84041.54956/901\n",
            "Eval:  Avg_Loss: 85519.92260/300\n",
            "Train Epoch: 49   Avg_Loss: 83876.57624/901\n",
            "Eval:  Avg_Loss: 85544.91440/300\n",
            "Train Epoch: 50   Avg_Loss: 84128.08574/901\n",
            "Eval:  Avg_Loss: 85575.92469/300\n",
            "Train Epoch: 51   Avg_Loss: 84500.53431/901\n",
            "Eval:  Avg_Loss: 85558.04986/300\n",
            "Train Epoch: 52   Avg_Loss: 83308.13998/901\n",
            "Eval:  Avg_Loss: 85550.54802/300\n",
            "Train Epoch: 53   Avg_Loss: 83534.82722/901\n",
            "Eval:  Avg_Loss: 85559.17712/300\n",
            "Train Epoch: 54   Avg_Loss: 83238.94887/901\n",
            "Eval:  Avg_Loss: 85520.98424/300\n",
            "Train Epoch: 55   Avg_Loss: 83519.21239/901\n",
            "Eval:  Avg_Loss: 85514.14970/300\n",
            "Train Epoch: 56   Avg_Loss: 83569.60638/901\n",
            "Eval:  Avg_Loss: 85522.31790/300\n",
            "Train Epoch: 57   Avg_Loss: 83713.46985/901\n",
            "Eval:  Avg_Loss: 85541.47432/300\n",
            "Train Epoch: 58   Avg_Loss: 83601.44212/901\n",
            "Eval:  Avg_Loss: 85526.59875/300\n",
            "Train Epoch: 59   Avg_Loss: 84403.84863/901\n",
            "Eval:  Avg_Loss: 85542.25005/300\n",
            "Train Epoch: 60   Avg_Loss: 83657.73811/901\n",
            "Eval:  Avg_Loss: 85586.25892/300\n",
            "Train Epoch: 61   Avg_Loss: 83922.29403/901\n",
            "Eval:  Avg_Loss: 85536.57565/300\n",
            "Train Epoch: 62   Avg_Loss: 84820.66636/901\n",
            "Eval:  Avg_Loss: 85546.88531/300\n",
            "Train Epoch: 63   Avg_Loss: 83836.00562/901\n",
            "Eval:  Avg_Loss: 85534.23668/300\n",
            "Train Epoch: 64   Avg_Loss: 83744.34453/901\n",
            "Eval:  Avg_Loss: 85516.71768/300\n",
            "Train Epoch: 65   Avg_Loss: 84391.09347/901\n",
            "Eval:  Avg_Loss: 85545.96065/300\n",
            "Train Epoch: 66   Avg_Loss: 83679.90231/901\n",
            "Eval:  Avg_Loss: 85547.21497/300\n",
            "Train Epoch: 67   Avg_Loss: 82964.17285/901\n",
            "Eval:  Avg_Loss: 85532.78318/300\n",
            "Train Epoch: 68   Avg_Loss: 83698.85475/901\n",
            "Eval:  Avg_Loss: 85503.20742/300\n",
            "Train Epoch: 69   Avg_Loss: 83382.18283/901\n",
            "Eval:  Avg_Loss: 85554.59389/300\n",
            "Train Epoch: 70   Avg_Loss: 82441.16378/901\n",
            "Eval:  Avg_Loss: 85595.17893/300\n",
            "Train Epoch: 71   Avg_Loss: 83266.92386/901\n",
            "Eval:  Avg_Loss: 85548.38635/300\n",
            "Train Epoch: 72   Avg_Loss: 83986.98724/901\n",
            "Eval:  Avg_Loss: 85554.76335/300\n",
            "Train Epoch: 73   Avg_Loss: 83465.31186/901\n",
            "Eval:  Avg_Loss: 85498.38164/300\n",
            "Train Epoch: 74   Avg_Loss: 84021.22118/901\n",
            "Eval:  Avg_Loss: 85507.31172/300\n",
            "Train Epoch: 75   Avg_Loss: 84261.49866/901\n",
            "Eval:  Avg_Loss: 85475.53139/300\n",
            "Train Epoch: 76   Avg_Loss: 83792.91420/901\n",
            "Eval:  Avg_Loss: 85452.09326/300\n",
            "Train Epoch: 77   Avg_Loss: 84509.37645/901\n",
            "Eval:  Avg_Loss: 85561.02453/300\n",
            "Train Epoch: 78   Avg_Loss: 83862.57327/901\n",
            "Eval:  Avg_Loss: 85477.43694/300\n",
            "Train Epoch: 79   Avg_Loss: 83224.54762/901\n",
            "Eval:  Avg_Loss: 85544.15732/300\n",
            "Train Epoch: 80   Avg_Loss: 84209.98278/901\n",
            "Eval:  Avg_Loss: 85560.79171/300\n",
            "Train Epoch: 81   Avg_Loss: 82397.58056/901\n",
            "Eval:  Avg_Loss: 85549.24526/300\n",
            "Train Epoch: 82   Avg_Loss: 84486.88024/901\n",
            "Eval:  Avg_Loss: 85523.99471/300\n",
            "Train Epoch: 83   Avg_Loss: 84300.07665/901\n",
            "Eval:  Avg_Loss: 85571.75220/300\n",
            "Train Epoch: 84   Avg_Loss: 84500.49859/901\n",
            "Eval:  Avg_Loss: 85501.99388/300\n",
            "Train Epoch: 85   Avg_Loss: 83227.99109/901\n",
            "Eval:  Avg_Loss: 85575.38844/300\n",
            "Train Epoch: 86   Avg_Loss: 85334.19558/901\n",
            "Eval:  Avg_Loss: 85562.11388/300\n",
            "Train Epoch: 87   Avg_Loss: 84354.72490/901\n",
            "Eval:  Avg_Loss: 85538.66033/300\n",
            "Train Epoch: 88   Avg_Loss: 83415.35720/901\n",
            "Eval:  Avg_Loss: 85486.89388/300\n",
            "Train Epoch: 89   Avg_Loss: 83454.87990/901\n",
            "Eval:  Avg_Loss: 85465.62833/300\n",
            "Train Epoch: 90   Avg_Loss: 84552.30005/901\n",
            "Eval:  Avg_Loss: 85558.12439/300\n",
            "Train Epoch: 91   Avg_Loss: 84332.79457/901\n",
            "Eval:  Avg_Loss: 85589.03263/300\n",
            "Train Epoch: 92   Avg_Loss: 84597.30241/901\n",
            "Eval:  Avg_Loss: 85531.95786/300\n",
            "Train Epoch: 93   Avg_Loss: 83327.49888/901\n",
            "Eval:  Avg_Loss: 85539.46905/300\n",
            "Train Epoch: 94   Avg_Loss: 83695.06162/901\n",
            "Eval:  Avg_Loss: 85461.03805/300\n",
            "Train Epoch: 95   Avg_Loss: 84668.62056/901\n",
            "Eval:  Avg_Loss: 85541.32009/300\n",
            "Train Epoch: 96   Avg_Loss: 83977.12099/901\n",
            "Eval:  Avg_Loss: 85480.10710/300\n",
            "Train Epoch: 97   Avg_Loss: 84485.56614/901\n",
            "Eval:  Avg_Loss: 85516.35337/300\n",
            "Train Epoch: 98   Avg_Loss: 84220.90859/901\n",
            "Eval:  Avg_Loss: 85512.36625/300\n",
            "Train Epoch: 99   Avg_Loss: 83567.04286/901\n",
            "Eval:  Avg_Loss: 85607.22171/300\n",
            "Train Epoch: 100   Avg_Loss: 83980.38918/901\n",
            "Eval:  Avg_Loss: 85560.58990/300\n",
            "Train Epoch: 101   Avg_Loss: 84016.19259/901\n",
            "Eval:  Avg_Loss: 85602.12915/300\n",
            "Train Epoch: 102   Avg_Loss: 83675.21670/901\n",
            "Eval:  Avg_Loss: 85525.09336/300\n",
            "Train Epoch: 103   Avg_Loss: 83701.02757/901\n",
            "Eval:  Avg_Loss: 85565.54951/300\n",
            "Train Epoch: 104   Avg_Loss: 84225.81877/901\n",
            "Eval:  Avg_Loss: 85528.60190/300\n",
            "Train Epoch: 105   Avg_Loss: 83467.33615/901\n",
            "Eval:  Avg_Loss: 85548.27038/300\n",
            "Train Epoch: 106   Avg_Loss: 84871.13041/901\n",
            "Eval:  Avg_Loss: 85585.00820/300\n",
            "Train Epoch: 107   Avg_Loss: 83447.53949/901\n",
            "Eval:  Avg_Loss: 85578.10738/300\n",
            "Train Epoch: 108   Avg_Loss: 84172.65139/901\n",
            "Eval:  Avg_Loss: 85473.03182/300\n",
            "Train Epoch: 109   Avg_Loss: 84599.30350/901\n",
            "Eval:  Avg_Loss: 85515.12951/300\n",
            "Train Epoch: 110   Avg_Loss: 83458.60548/901\n",
            "Eval:  Avg_Loss: 85564.63431/300\n",
            "Train Epoch: 111   Avg_Loss: 83403.06926/901\n",
            "Eval:  Avg_Loss: 85534.92710/300\n",
            "Train Epoch: 112   Avg_Loss: 83739.29033/901\n",
            "Eval:  Avg_Loss: 85471.35249/300\n",
            "Train Epoch: 113   Avg_Loss: 83872.54215/901\n",
            "Eval:  Avg_Loss: 85555.69979/300\n",
            "Train Epoch: 114   Avg_Loss: 83830.19587/901\n",
            "Eval:  Avg_Loss: 85503.04577/300\n",
            "Train Epoch: 115   Avg_Loss: 83217.77481/901\n",
            "Eval:  Avg_Loss: 85517.04036/300\n",
            "Train Epoch: 116   Avg_Loss: 84798.33916/901\n",
            "Eval:  Avg_Loss: 85537.18503/300\n",
            "Train Epoch: 117   Avg_Loss: 84550.30304/901\n",
            "Eval:  Avg_Loss: 85486.19147/300\n",
            "Train Epoch: 118   Avg_Loss: 84285.55107/901\n",
            "Eval:  Avg_Loss: 85608.62219/300\n",
            "Train Epoch: 119   Avg_Loss: 84316.62759/901\n",
            "Eval:  Avg_Loss: 85617.08883/300\n",
            "Train Epoch: 120   Avg_Loss: 84063.93083/901\n",
            "Eval:  Avg_Loss: 85472.02932/300\n",
            "Train Epoch: 121   Avg_Loss: 83484.82504/901\n",
            "Eval:  Avg_Loss: 85475.69126/300\n",
            "Train Epoch: 122   Avg_Loss: 83100.27863/901\n",
            "Eval:  Avg_Loss: 85477.65814/300\n",
            "Train Epoch: 123   Avg_Loss: 84087.60553/901\n",
            "Eval:  Avg_Loss: 85571.01324/300\n",
            "Train Epoch: 124   Avg_Loss: 84255.74783/901\n",
            "Eval:  Avg_Loss: 85556.78719/300\n",
            "Train Epoch: 125   Avg_Loss: 83610.01159/901\n",
            "Eval:  Avg_Loss: 85503.02680/300\n",
            "Train Epoch: 126   Avg_Loss: 83183.65988/901\n",
            "Eval:  Avg_Loss: 85491.56587/300\n",
            "Train Epoch: 127   Avg_Loss: 83977.68989/901\n",
            "Eval:  Avg_Loss: 85502.68370/300\n",
            "Train Epoch: 128   Avg_Loss: 84631.94603/901\n",
            "Eval:  Avg_Loss: 85526.62698/300\n",
            "Train Epoch: 129   Avg_Loss: 83575.44771/901\n",
            "Eval:  Avg_Loss: 85528.03564/300\n",
            "Train Epoch: 130   Avg_Loss: 83072.81379/901\n",
            "Eval:  Avg_Loss: 85539.87922/300\n",
            "Train Epoch: 131   Avg_Loss: 84091.53671/901\n",
            "Eval:  Avg_Loss: 85474.14789/300\n",
            "Train Epoch: 132   Avg_Loss: 84261.45201/901\n",
            "Eval:  Avg_Loss: 85566.31611/300\n",
            "Train Epoch: 133   Avg_Loss: 84307.39381/901\n",
            "Eval:  Avg_Loss: 85517.75271/300\n",
            "Train Epoch: 134   Avg_Loss: 83880.85962/901\n",
            "Eval:  Avg_Loss: 85447.18174/300\n",
            "Train Epoch: 135   Avg_Loss: 84483.31864/901\n",
            "Eval:  Avg_Loss: 85521.43271/300\n",
            "Train Epoch: 136   Avg_Loss: 84573.49402/901\n",
            "Eval:  Avg_Loss: 85616.48089/300\n",
            "Train Epoch: 137   Avg_Loss: 83710.22065/901\n",
            "Eval:  Avg_Loss: 85522.30661/300\n",
            "Train Epoch: 138   Avg_Loss: 83308.17403/901\n",
            "Eval:  Avg_Loss: 85505.44909/300\n",
            "Train Epoch: 139   Avg_Loss: 83535.72873/901\n",
            "Eval:  Avg_Loss: 85576.97380/300\n",
            "Train Epoch: 140   Avg_Loss: 83494.29763/901\n",
            "Eval:  Avg_Loss: 85516.65065/300\n",
            "Train Epoch: 141   Avg_Loss: 83632.49885/901\n",
            "Eval:  Avg_Loss: 85604.14492/300\n",
            "Train Epoch: 142   Avg_Loss: 84806.33956/901\n",
            "Eval:  Avg_Loss: 85494.15697/300\n",
            "Train Epoch: 143   Avg_Loss: 84013.06708/901\n",
            "Eval:  Avg_Loss: 85566.28573/300\n",
            "Train Epoch: 144   Avg_Loss: 84039.90583/901\n",
            "Eval:  Avg_Loss: 85508.74708/300\n",
            "Train Epoch: 145   Avg_Loss: 83466.00779/901\n",
            "Eval:  Avg_Loss: 85496.73034/300\n",
            "Train Epoch: 146   Avg_Loss: 83792.59011/901\n",
            "Eval:  Avg_Loss: 85498.39992/300\n",
            "Train Epoch: 147   Avg_Loss: 84639.11770/901\n",
            "Eval:  Avg_Loss: 85535.18940/300\n",
            "Train Epoch: 148   Avg_Loss: 84179.75382/901\n",
            "Eval:  Avg_Loss: 85638.56427/300\n",
            "Train Epoch: 149   Avg_Loss: 84944.19634/901\n",
            "Eval:  Avg_Loss: 85558.99578/300\n",
            "Train Epoch: 150   Avg_Loss: 84251.33092/901\n",
            "Eval:  Avg_Loss: 85570.90743/300\n",
            "Train Epoch: 151   Avg_Loss: 83349.86743/901\n",
            "Eval:  Avg_Loss: 85582.94643/300\n",
            "Train Epoch: 152   Avg_Loss: 84003.48160/901\n",
            "Eval:  Avg_Loss: 85494.67926/300\n",
            "Train Epoch: 153   Avg_Loss: 83698.35701/901\n",
            "Eval:  Avg_Loss: 85526.42173/300\n",
            "Train Epoch: 154   Avg_Loss: 83142.91614/901\n",
            "Eval:  Avg_Loss: 85566.06839/300\n",
            "Train Epoch: 155   Avg_Loss: 84159.74244/901\n",
            "Eval:  Avg_Loss: 85514.12757/300\n",
            "Train Epoch: 156   Avg_Loss: 84695.45196/901\n",
            "Eval:  Avg_Loss: 85515.31732/300\n",
            "Train Epoch: 157   Avg_Loss: 84059.59088/901\n",
            "Eval:  Avg_Loss: 85518.72773/300\n",
            "Train Epoch: 158   Avg_Loss: 84141.11990/901\n",
            "Eval:  Avg_Loss: 85553.61005/300\n",
            "Train Epoch: 159   Avg_Loss: 83833.30732/901\n",
            "Eval:  Avg_Loss: 85492.81219/300\n",
            "Train Epoch: 160   Avg_Loss: 84355.90137/901\n",
            "Eval:  Avg_Loss: 85522.18534/300\n",
            "Train Epoch: 161   Avg_Loss: 84252.40950/901\n",
            "Eval:  Avg_Loss: 85559.31956/300\n",
            "Train Epoch: 162   Avg_Loss: 83913.73177/901\n",
            "Eval:  Avg_Loss: 85478.21499/300\n",
            "Train Epoch: 163   Avg_Loss: 84693.37827/901\n",
            "Eval:  Avg_Loss: 85540.93836/300\n",
            "Train Epoch: 164   Avg_Loss: 84433.01327/901\n",
            "Eval:  Avg_Loss: 85508.02299/300\n",
            "Train Epoch: 165   Avg_Loss: 84776.98693/901\n",
            "Eval:  Avg_Loss: 85468.84198/300\n",
            "Train Epoch: 166   Avg_Loss: 83688.54336/901\n",
            "Eval:  Avg_Loss: 85538.71026/300\n",
            "Train Epoch: 167   Avg_Loss: 83149.44007/901\n",
            "Eval:  Avg_Loss: 85503.53508/300\n",
            "Train Epoch: 168   Avg_Loss: 83735.97579/901\n",
            "Eval:  Avg_Loss: 85480.00984/300\n",
            "Train Epoch: 169   Avg_Loss: 83587.71918/901\n",
            "Eval:  Avg_Loss: 85529.36383/300\n",
            "Train Epoch: 170   Avg_Loss: 84956.28100/901\n",
            "Eval:  Avg_Loss: 85558.79880/300\n",
            "Train Epoch: 171   Avg_Loss: 84574.49959/901\n",
            "Eval:  Avg_Loss: 85506.82943/300\n",
            "Train Epoch: 172   Avg_Loss: 84148.66010/901\n",
            "Eval:  Avg_Loss: 85548.36992/300\n",
            "Train Epoch: 173   Avg_Loss: 84201.57242/901\n",
            "Eval:  Avg_Loss: 85500.93057/300\n",
            "Train Epoch: 174   Avg_Loss: 84004.25138/901\n",
            "Eval:  Avg_Loss: 85476.06026/300\n",
            "Train Epoch: 175   Avg_Loss: 83907.36636/901\n",
            "Eval:  Avg_Loss: 85484.09999/300\n",
            "Train Epoch: 176   Avg_Loss: 84125.12331/901\n",
            "Eval:  Avg_Loss: 85554.63612/300\n",
            "Train Epoch: 177   Avg_Loss: 85366.58459/901\n",
            "Eval:  Avg_Loss: 85585.40674/300\n",
            "Train Epoch: 178   Avg_Loss: 83789.14374/901\n",
            "Eval:  Avg_Loss: 85494.94654/300\n",
            "Train Epoch: 179   Avg_Loss: 85133.09846/901\n",
            "Eval:  Avg_Loss: 85507.70087/300\n",
            "Train Epoch: 180   Avg_Loss: 84914.27665/901\n",
            "Eval:  Avg_Loss: 85526.38667/300\n",
            "Train Epoch: 181   Avg_Loss: 84646.60003/901\n",
            "Eval:  Avg_Loss: 85556.00230/300\n",
            "Train Epoch: 182   Avg_Loss: 84458.19205/901\n",
            "Eval:  Avg_Loss: 85592.65422/300\n",
            "Train Epoch: 183   Avg_Loss: 84718.80168/901\n",
            "Eval:  Avg_Loss: 85570.45600/300\n",
            "Train Epoch: 184   Avg_Loss: 84198.08139/901\n",
            "Eval:  Avg_Loss: 85457.96604/300\n",
            "Train Epoch: 185   Avg_Loss: 84029.38627/901\n",
            "Eval:  Avg_Loss: 85496.60435/300\n",
            "Train Epoch: 186   Avg_Loss: 83854.01612/901\n",
            "Eval:  Avg_Loss: 85533.29893/300\n",
            "Train Epoch: 187   Avg_Loss: 84460.46943/901\n",
            "Eval:  Avg_Loss: 85561.06350/300\n",
            "Train Epoch: 188   Avg_Loss: 83600.27104/901\n",
            "Eval:  Avg_Loss: 85544.32000/300\n",
            "Train Epoch: 189   Avg_Loss: 84093.13128/901\n",
            "Eval:  Avg_Loss: 85432.34311/300\n",
            "Train Epoch: 190   Avg_Loss: 83517.24564/901\n",
            "Eval:  Avg_Loss: 85513.55444/300\n",
            "Train Epoch: 191   Avg_Loss: 84682.82269/901\n",
            "Eval:  Avg_Loss: 85578.92971/300\n",
            "Train Epoch: 192   Avg_Loss: 83729.93254/901\n",
            "Eval:  Avg_Loss: 85523.88068/300\n",
            "Train Epoch: 193   Avg_Loss: 84195.55894/901\n",
            "Eval:  Avg_Loss: 85555.86057/300\n",
            "Train Epoch: 194   Avg_Loss: 84736.53521/901\n",
            "Eval:  Avg_Loss: 85526.54523/300\n",
            "Train Epoch: 195   Avg_Loss: 83845.06588/901\n",
            "Eval:  Avg_Loss: 85503.23796/300\n",
            "Train Epoch: 196   Avg_Loss: 83407.86104/901\n",
            "Eval:  Avg_Loss: 85492.74056/300\n",
            "Train Epoch: 197   Avg_Loss: 84002.09745/901\n",
            "Eval:  Avg_Loss: 85486.86275/300\n",
            "Train Epoch: 198   Avg_Loss: 83362.40981/901\n",
            "Eval:  Avg_Loss: 85477.44154/300\n",
            "Train Epoch: 199   Avg_Loss: 84579.54499/901\n",
            "Eval:  Avg_Loss: 85487.04755/300\n",
            "Train Epoch: 200   Avg_Loss: 83302.45277/901\n",
            "Eval:  Avg_Loss: 85471.51570/300\n",
            "\n",
            "\n",
            "\n",
            "Optimization ended.\n",
            "\n"
          ],
          "name": "stdout"
        }
      ]
    },
    {
      "cell_type": "code",
      "metadata": {
        "colab": {
          "base_uri": "https://localhost:8080/",
          "height": 279
        },
        "id": "wXhMen3OI1wr",
        "outputId": "0664b99c-b93d-4c39-b0f4-61d4d27c8e36"
      },
      "source": [
        "import matplotlib.pyplot as plt\n",
        "%matplotlib inline\n",
        "x = list(range(len(train_losses)))\n",
        "ax = plt.subplot(111)\n",
        "plt.plot(x, train_losses, 'r', label='train')\n",
        "plt.plot(x, val_losses, 'g', label='validation')\n",
        "plt.xlabel('epoch')\n",
        "plt.ylabel('loss')\n",
        "plt.grid()"
      ],
      "execution_count": 51,
      "outputs": [
        {
          "output_type": "display_data",
          "data": {
            "image/png": "[encoded data removed]",
            "text/plain": [
              "<Figure size 432x288 with 1 Axes>"
            ]
          },
          "metadata": {
            "tags": [],
            "needs_background": "light"
          }
        }
      ]
    },
    {
      "cell_type": "code",
      "metadata": {
        "id": "UJrRRmKpLe4c"
      },
      "source": [
        "predictions = model(torch.from_numpy(X_test).float().to(device))"
      ],
      "execution_count": 63,
      "outputs": []
    },
    {
      "cell_type": "code",
      "metadata": {
        "colab": {
          "base_uri": "https://localhost:8080/"
        },
        "id": "MhYjfQ5jMWxF",
        "outputId": "8ed6bcd9-1ed9-4b1d-fc73-8493f35f228b"
      },
      "source": [
        "mae = mean_absolute_error(predictions.cpu().detach().numpy(), y_test)\n",
        "\n",
        "print(\"Mean Absolute Error :\", round(mae, 2))"
      ],
      "execution_count": 61,
      "outputs": [
        {
          "output_type": "stream",
          "text": [
            "Mean Absolute Error : 9.08\n"
          ],
          "name": "stdout"
        }
      ]
    },
    {
      "cell_type": "code",
      "metadata": {
        "colab": {
          "base_uri": "https://localhost:8080/",
          "height": 204
        },
        "id": "M4fsYbUPMsyF",
        "outputId": "9e6bed90-682e-472e-8347-aa5a8d0cf657"
      },
      "source": [
        "pred_series = pd.Series(predictions.cpu().detach().numpy().squeeze(), name=\"Predicted\")\n",
        "\n",
        "submission = pd.concat([airfoil_data, pred_series], axis=1)\n",
        "\n",
        "submission.head()"
      ],
      "execution_count": 65,
      "outputs": [
        {
          "output_type": "execute_result",
          "data": {
            "text/html": [
              "<div>\n",
              "<style scoped>\n",
              "    .dataframe tbody tr th:only-of-type {\n",
              "        vertical-align: middle;\n",
              "    }\n",
              "\n",
              "    .dataframe tbody tr th {\n",
              "        vertical-align: top;\n",
              "    }\n",
              "\n",
              "    .dataframe thead th {\n",
              "        text-align: right;\n",
              "    }\n",
              "</style>\n",
              "<table border=\"1\" class=\"dataframe\">\n",
              "  <thead>\n",
              "    <tr style=\"text-align: right;\">\n",
              "      <th></th>\n",
              "      <th>Frequency</th>\n",
              "      <th>Angle of attack</th>\n",
              "      <th>Chord length</th>\n",
              "      <th>Free-stream velocity</th>\n",
              "      <th>Displacement thickness</th>\n",
              "      <th>Scaled sound pressure level</th>\n",
              "      <th>Predicted</th>\n",
              "    </tr>\n",
              "  </thead>\n",
              "  <tbody>\n",
              "    <tr>\n",
              "      <th>0</th>\n",
              "      <td>1000</td>\n",
              "      <td>0.0</td>\n",
              "      <td>0.3048</td>\n",
              "      <td>71.3</td>\n",
              "      <td>0.002663</td>\n",
              "      <td>125.201</td>\n",
              "      <td>116.400208</td>\n",
              "    </tr>\n",
              "    <tr>\n",
              "      <th>1</th>\n",
              "      <td>1250</td>\n",
              "      <td>0.0</td>\n",
              "      <td>0.3048</td>\n",
              "      <td>71.3</td>\n",
              "      <td>0.002663</td>\n",
              "      <td>125.951</td>\n",
              "      <td>123.577171</td>\n",
              "    </tr>\n",
              "    <tr>\n",
              "      <th>2</th>\n",
              "      <td>1600</td>\n",
              "      <td>0.0</td>\n",
              "      <td>0.3048</td>\n",
              "      <td>71.3</td>\n",
              "      <td>0.002663</td>\n",
              "      <td>127.591</td>\n",
              "      <td>124.531067</td>\n",
              "    </tr>\n",
              "    <tr>\n",
              "      <th>3</th>\n",
              "      <td>2000</td>\n",
              "      <td>0.0</td>\n",
              "      <td>0.3048</td>\n",
              "      <td>71.3</td>\n",
              "      <td>0.002663</td>\n",
              "      <td>127.461</td>\n",
              "      <td>121.423843</td>\n",
              "    </tr>\n",
              "    <tr>\n",
              "      <th>4</th>\n",
              "      <td>2500</td>\n",
              "      <td>0.0</td>\n",
              "      <td>0.3048</td>\n",
              "      <td>71.3</td>\n",
              "      <td>0.002663</td>\n",
              "      <td>125.571</td>\n",
              "      <td>113.292221</td>\n",
              "    </tr>\n",
              "  </tbody>\n",
              "</table>\n",
              "</div>"
            ],
            "text/plain": [
              "   Frequency  Angle of attack  ...  Scaled sound pressure level   Predicted\n",
              "0       1000              0.0  ...                      125.201  116.400208\n",
              "1       1250              0.0  ...                      125.951  123.577171\n",
              "2       1600              0.0  ...                      127.591  124.531067\n",
              "3       2000              0.0  ...                      127.461  121.423843\n",
              "4       2500              0.0  ...                      125.571  113.292221\n",
              "\n",
              "[5 rows x 7 columns]"
            ]
          },
          "metadata": {
            "tags": []
          },
          "execution_count": 65
        }
      ]
    }
  ]
}