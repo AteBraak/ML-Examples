{
  "nbformat": 4,
  "nbformat_minor": 0,
  "metadata": {
    "colab": {
      "name": "BasicPyTorchSetup.ipynb",
      "provenance": [],
      "authorship_tag": "ABX9TyPJUZPjgH61gjrz3ZzBxShI",
      "include_colab_link": true
    },
    "kernelspec": {
      "name": "python3",
      "display_name": "Python 3"
    },
    "language_info": {
      "name": "python"
    }
  },
  "cells": [
    {
      "cell_type": "markdown",
      "metadata": {
        "id": "view-in-github",
        "colab_type": "text"
      },
      "source": [
        "<a href=\"https://colab.research.google.com/github/AteBraak/ML-Examples/blob/main/PyTorch/ML/BasicPyTorchSetup.ipynb\" target=\"_parent\"><img src=\"https://colab.research.google.com/assets/colab-badge.svg\" alt=\"Open In Colab\"/></a>"
      ]
    },
    {
      "cell_type": "code",
      "metadata": {
        "id": "hR_cQEngRCEd"
      },
      "source": [
        "import torch\n",
        "import numpy as np"
      ],
      "execution_count": 4,
      "outputs": []
    },
    {
      "cell_type": "code",
      "metadata": {
        "colab": {
          "base_uri": "https://localhost:8080/"
        },
        "id": "jrBtHJ2NQ8Jk",
        "outputId": "ebddd003-a27a-4447-c62c-56931d534d63"
      },
      "source": [
        "use_gpu = torch.cuda.is_available()\n",
        "device = torch.device(\"cuda:0\" if use_gpu else \"cpu\")\n",
        "\n",
        "if use_gpu: \n",
        "    print(\"Using the following accelerator type: {}\".format(torch.cuda.get_device_name(0)))\n",
        "    gpu_mem_in_gb = torch.cuda.get_device_properties(0).total_memory * 1e-9\n",
        "    print('The GPU memory is {:.2f} GB'.format(gpu_mem_in_gb))\n",
        "else:\n",
        "    print(\"No GPU/TPU found, try changing the runtime type if using colab.\")\n",
        "\n",
        "print(\"Torch version: \", torch.__version__)\n",
        "print(\"GPU Available: {}\".format(use_gpu))"
      ],
      "execution_count": 2,
      "outputs": [
        {
          "output_type": "stream",
          "text": [
            "No GPU/TPU found, try changing the runtime type if using colab.\n",
            "Torch version:  1.8.1+cu101\n",
            "GPU Available: False\n"
          ],
          "name": "stdout"
        }
      ]
    },
    {
      "cell_type": "code",
      "metadata": {
        "id": "EcQMUhsURWOb"
      },
      "source": [
        "seed = 4321\n",
        "np.random.seed(seed) # Set the random seed of numpy for the data split.\n",
        "torch.manual_seed(seed)\n",
        "torch.cuda.manual_seed(seed)"
      ],
      "execution_count": 5,
      "outputs": []
    }
  ]
}